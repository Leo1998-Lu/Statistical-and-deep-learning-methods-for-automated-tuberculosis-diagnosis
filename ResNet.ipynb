{
 "cells": [
  {
   "cell_type": "code",
   "execution_count": 1,
   "id": "25c9bced",
   "metadata": {
    "execution": {
     "iopub.execute_input": "2023-11-30T23:39:37.460404Z",
     "iopub.status.busy": "2023-11-30T23:39:37.459975Z",
     "iopub.status.idle": "2023-11-30T23:39:42.472066Z",
     "shell.execute_reply": "2023-11-30T23:39:42.471084Z"
    },
    "papermill": {
     "duration": 5.028345,
     "end_time": "2023-11-30T23:39:42.474416",
     "exception": false,
     "start_time": "2023-11-30T23:39:37.446071",
     "status": "completed"
    },
    "tags": []
   },
   "outputs": [],
   "source": [
    "import os\n",
    "from pathlib import Path\n",
    "import pandas as pd\n",
    "import torch\n",
    "import torchaudio\n",
    "import torchvision\n",
    "import numpy as np\n",
    "from torchvision import models\n",
    "import torchaudio\n",
    "import matplotlib.pyplot as plt\n",
    "from tqdm import tqdm\n",
    "import timm\n",
    "import gc\n",
    "import librosa"
   ]
  },
  {
   "cell_type": "code",
   "execution_count": 2,
   "id": "0966f6b7",
   "metadata": {
    "execution": {
     "iopub.execute_input": "2023-11-30T23:39:42.500303Z",
     "iopub.status.busy": "2023-11-30T23:39:42.499992Z",
     "iopub.status.idle": "2023-11-30T23:39:42.504340Z",
     "shell.execute_reply": "2023-11-30T23:39:42.503524Z"
    },
    "papermill": {
     "duration": 0.019482,
     "end_time": "2023-11-30T23:39:42.506221",
     "exception": false,
     "start_time": "2023-11-30T23:39:42.486739",
     "status": "completed"
    },
    "tags": []
   },
   "outputs": [],
   "source": [
    "data_dir = Path('/kaggle/input/tb-coughs-audio/data')\n",
    "solicited = data_dir/'solicited'\n",
    "TRAIN_FOLDER = solicited\n",
    "cv_train = False # cross-validation or one fold"
   ]
  },
  {
   "cell_type": "code",
   "execution_count": 3,
   "id": "8efbcf23",
   "metadata": {
    "execution": {
     "iopub.execute_input": "2023-11-30T23:39:42.531366Z",
     "iopub.status.busy": "2023-11-30T23:39:42.531118Z",
     "iopub.status.idle": "2023-11-30T23:39:42.536274Z",
     "shell.execute_reply": "2023-11-30T23:39:42.535190Z"
    },
    "papermill": {
     "duration": 0.019845,
     "end_time": "2023-11-30T23:39:42.538206",
     "exception": false,
     "start_time": "2023-11-30T23:39:42.518361",
     "status": "completed"
    },
    "tags": []
   },
   "outputs": [],
   "source": [
    "MODEL_FOLDER = Path('./models')\n",
    "\n",
    "os.makedirs(MODEL_FOLDER, exist_ok=True)"
   ]
  },
  {
   "cell_type": "markdown",
   "id": "ebf19551",
   "metadata": {
    "papermill": {
     "duration": 0.011752,
     "end_time": "2023-11-30T23:39:42.561862",
     "exception": false,
     "start_time": "2023-11-30T23:39:42.550110",
     "status": "completed"
    },
    "tags": []
   },
   "source": [
    "# Prepare data"
   ]
  },
  {
   "cell_type": "code",
   "execution_count": 4,
   "id": "7ec4549b",
   "metadata": {
    "execution": {
     "iopub.execute_input": "2023-11-30T23:39:42.586563Z",
     "iopub.status.busy": "2023-11-30T23:39:42.586318Z",
     "iopub.status.idle": "2023-11-30T23:39:43.522477Z",
     "shell.execute_reply": "2023-11-30T23:39:43.521301Z"
    },
    "papermill": {
     "duration": 0.951266,
     "end_time": "2023-11-30T23:39:43.524902",
     "exception": false,
     "start_time": "2023-11-30T23:39:42.573636",
     "status": "completed"
    },
    "tags": []
   },
   "outputs": [
    {
     "name": "stderr",
     "output_type": "stream",
     "text": [
      "/opt/conda/lib/python3.10/site-packages/scipy/__init__.py:146: UserWarning: A NumPy version >=1.16.5 and <1.23.0 is required for this version of SciPy (detected version 1.23.5\n",
      "  warnings.warn(f\"A NumPy version >={np_minversion} and <{np_maxversion}\"\n"
     ]
    }
   ],
   "source": [
    "from pathlib import Path\n",
    "import pandas as pd\n",
    "from sklearn.model_selection import StratifiedKFold, KFold, StratifiedGroupKFold\n",
    "import torchaudio\n",
    "\n",
    "data_dir = Path('/kaggle/input/tb-tab-data')"
   ]
  },
  {
   "cell_type": "code",
   "execution_count": 5,
   "id": "9fc7bf19",
   "metadata": {
    "execution": {
     "iopub.execute_input": "2023-11-30T23:39:43.553689Z",
     "iopub.status.busy": "2023-11-30T23:39:43.553307Z",
     "iopub.status.idle": "2023-11-30T23:39:43.557912Z",
     "shell.execute_reply": "2023-11-30T23:39:43.557059Z"
    },
    "papermill": {
     "duration": 0.020805,
     "end_time": "2023-11-30T23:39:43.559803",
     "exception": false,
     "start_time": "2023-11-30T23:39:43.538998",
     "status": "completed"
    },
    "tags": []
   },
   "outputs": [],
   "source": [
    "def get_sample_length(fn,base_path):\n",
    "    p = base_path/fn\n",
    "    x, sr = torchaudio.load(str(p))\n",
    "    return x.shape[1]"
   ]
  },
  {
   "cell_type": "code",
   "execution_count": 6,
   "id": "46d9b1f9",
   "metadata": {
    "execution": {
     "iopub.execute_input": "2023-11-30T23:39:43.585277Z",
     "iopub.status.busy": "2023-11-30T23:39:43.585000Z",
     "iopub.status.idle": "2023-11-30T23:39:43.590215Z",
     "shell.execute_reply": "2023-11-30T23:39:43.589280Z"
    },
    "papermill": {
     "duration": 0.020116,
     "end_time": "2023-11-30T23:39:43.592109",
     "exception": false,
     "start_time": "2023-11-30T23:39:43.571993",
     "status": "completed"
    },
    "tags": []
   },
   "outputs": [],
   "source": [
    "def find_path(filename,directory_path=data_dir):\n",
    "    l = list(directory_path.glob(\"**/\" + filename))\n",
    "    if len(l) == 0:\n",
    "        return None\n",
    "    elif len(l) == 1:\n",
    "        return l[0]\n",
    "    else:\n",
    "        return l"
   ]
  },
  {
   "cell_type": "code",
   "execution_count": 7,
   "id": "e24307af",
   "metadata": {
    "execution": {
     "iopub.execute_input": "2023-11-30T23:39:43.618228Z",
     "iopub.status.busy": "2023-11-30T23:39:43.617693Z",
     "iopub.status.idle": "2023-11-30T23:39:43.675641Z",
     "shell.execute_reply": "2023-11-30T23:39:43.674662Z"
    },
    "papermill": {
     "duration": 0.073441,
     "end_time": "2023-11-30T23:39:43.677803",
     "exception": false,
     "start_time": "2023-11-30T23:39:43.604362",
     "status": "completed"
    },
    "tags": []
   },
   "outputs": [],
   "source": [
    "solicited_df = pd.read_csv(find_path('CODA_TB_Solicited_Meta_Info.csv'))\n",
    "clinical_df = pd.read_csv(find_path('CODA_TB_Clinical_Meta_Info.csv'))"
   ]
  },
  {
   "cell_type": "code",
   "execution_count": 8,
   "id": "e206425b",
   "metadata": {
    "execution": {
     "iopub.execute_input": "2023-11-30T23:39:43.703496Z",
     "iopub.status.busy": "2023-11-30T23:39:43.703195Z",
     "iopub.status.idle": "2023-11-30T23:39:44.184710Z",
     "shell.execute_reply": "2023-11-30T23:39:44.183738Z"
    },
    "papermill": {
     "duration": 0.496593,
     "end_time": "2023-11-30T23:39:44.186733",
     "exception": false,
     "start_time": "2023-11-30T23:39:43.690140",
     "status": "completed"
    },
    "tags": []
   },
   "outputs": [
    {
     "data": {
      "text/plain": [
       "fold  tb_status\n",
       "0.0   0            1343\n",
       "      1             548\n",
       "1.0   0            1392\n",
       "      1             517\n",
       "2.0   0            1352\n",
       "      1             684\n",
       "3.0   0            1378\n",
       "      1             621\n",
       "4.0   0            1377\n",
       "      1             560\n",
       "Name: filename, dtype: int64"
      ]
     },
     "metadata": {},
     "output_type": "display_data"
    }
   ],
   "source": [
    "#add tb_status\n",
    "df = pd.merge(solicited_df, clinical_df[['participant', 'tb_status']], on = 'participant', how = 'inner')\n",
    "# reset index so that .loc and .iloc are same for index\n",
    "df.reset_index(drop=True,inplace=True)\n",
    "#add orig_id\n",
    "df['orig_id'] = df.index\n",
    "\n",
    "n_folds = 5\n",
    "seed = 2023\n",
    "\n",
    "\n",
    "\n",
    "skf = StratifiedGroupKFold(n_splits=n_folds, shuffle=True, random_state=seed)\n",
    "for fold, (train_idx, val_idx) in enumerate(skf.split(df, df['tb_status'], groups = df[\"participant\"])):\n",
    "    df.loc[val_idx, 'fold'] = fold\n",
    "    \n",
    "display(df.groupby(['fold','tb_status'])['filename'].count())"
   ]
  },
  {
   "cell_type": "code",
   "execution_count": 9,
   "id": "51671705",
   "metadata": {
    "execution": {
     "iopub.execute_input": "2023-11-30T23:39:44.212721Z",
     "iopub.status.busy": "2023-11-30T23:39:44.212426Z",
     "iopub.status.idle": "2023-11-30T23:39:44.291767Z",
     "shell.execute_reply": "2023-11-30T23:39:44.290879Z"
    },
    "papermill": {
     "duration": 0.094459,
     "end_time": "2023-11-30T23:39:44.293888",
     "exception": false,
     "start_time": "2023-11-30T23:39:44.199429",
     "status": "completed"
    },
    "tags": []
   },
   "outputs": [],
   "source": [
    "df.to_csv(\"metadata.csv\")"
   ]
  },
  {
   "cell_type": "markdown",
   "id": "f634beb2",
   "metadata": {
    "papermill": {
     "duration": 0.011894,
     "end_time": "2023-11-30T23:39:44.317948",
     "exception": false,
     "start_time": "2023-11-30T23:39:44.306054",
     "status": "completed"
    },
    "tags": []
   },
   "source": [
    "\n",
    "## Load the metadata"
   ]
  },
  {
   "cell_type": "code",
   "execution_count": 10,
   "id": "ea807b51",
   "metadata": {
    "execution": {
     "iopub.execute_input": "2023-11-30T23:39:44.343556Z",
     "iopub.status.busy": "2023-11-30T23:39:44.343243Z",
     "iopub.status.idle": "2023-11-30T23:39:44.366402Z",
     "shell.execute_reply": "2023-11-30T23:39:44.365523Z"
    },
    "papermill": {
     "duration": 0.038047,
     "end_time": "2023-11-30T23:39:44.368429",
     "exception": false,
     "start_time": "2023-11-30T23:39:44.330382",
     "status": "completed"
    },
    "tags": []
   },
   "outputs": [],
   "source": [
    "df = pd.read_csv(\"metadata.csv\",index_col=[0])"
   ]
  },
  {
   "cell_type": "code",
   "execution_count": 11,
   "id": "1a5bff7d",
   "metadata": {
    "execution": {
     "iopub.execute_input": "2023-11-30T23:39:44.393638Z",
     "iopub.status.busy": "2023-11-30T23:39:44.393354Z",
     "iopub.status.idle": "2023-11-30T23:39:44.410486Z",
     "shell.execute_reply": "2023-11-30T23:39:44.409633Z"
    },
    "papermill": {
     "duration": 0.031806,
     "end_time": "2023-11-30T23:39:44.412329",
     "exception": false,
     "start_time": "2023-11-30T23:39:44.380523",
     "status": "completed"
    },
    "tags": []
   },
   "outputs": [
    {
     "data": {
      "text/html": [
       "<div>\n",
       "<style scoped>\n",
       "    .dataframe tbody tr th:only-of-type {\n",
       "        vertical-align: middle;\n",
       "    }\n",
       "\n",
       "    .dataframe tbody tr th {\n",
       "        vertical-align: top;\n",
       "    }\n",
       "\n",
       "    .dataframe thead th {\n",
       "        text-align: right;\n",
       "    }\n",
       "</style>\n",
       "<table border=\"1\" class=\"dataframe\">\n",
       "  <thead>\n",
       "    <tr style=\"text-align: right;\">\n",
       "      <th></th>\n",
       "      <th>participant</th>\n",
       "      <th>filename</th>\n",
       "      <th>sound_prediction_score</th>\n",
       "      <th>tb_status</th>\n",
       "      <th>orig_id</th>\n",
       "      <th>fold</th>\n",
       "    </tr>\n",
       "  </thead>\n",
       "  <tbody>\n",
       "    <tr>\n",
       "      <th>0</th>\n",
       "      <td>CODA_TB_0001</td>\n",
       "      <td>1645088710003-recording-1.wav</td>\n",
       "      <td>0.990254</td>\n",
       "      <td>0</td>\n",
       "      <td>0</td>\n",
       "      <td>2.0</td>\n",
       "    </tr>\n",
       "    <tr>\n",
       "      <th>1</th>\n",
       "      <td>CODA_TB_0001</td>\n",
       "      <td>1645088760390-recording-1.wav</td>\n",
       "      <td>0.990272</td>\n",
       "      <td>0</td>\n",
       "      <td>1</td>\n",
       "      <td>2.0</td>\n",
       "    </tr>\n",
       "    <tr>\n",
       "      <th>2</th>\n",
       "      <td>CODA_TB_0001</td>\n",
       "      <td>1645088760830-recording-1.wav</td>\n",
       "      <td>0.990112</td>\n",
       "      <td>0</td>\n",
       "      <td>2</td>\n",
       "      <td>2.0</td>\n",
       "    </tr>\n",
       "    <tr>\n",
       "      <th>3</th>\n",
       "      <td>CODA_TB_0001</td>\n",
       "      <td>1645088710843-recording-1.wav</td>\n",
       "      <td>0.990152</td>\n",
       "      <td>0</td>\n",
       "      <td>3</td>\n",
       "      <td>2.0</td>\n",
       "    </tr>\n",
       "    <tr>\n",
       "      <th>4</th>\n",
       "      <td>CODA_TB_0001</td>\n",
       "      <td>1645088759950-recording-1.wav</td>\n",
       "      <td>0.990039</td>\n",
       "      <td>0</td>\n",
       "      <td>4</td>\n",
       "      <td>2.0</td>\n",
       "    </tr>\n",
       "    <tr>\n",
       "      <th>...</th>\n",
       "      <td>...</td>\n",
       "      <td>...</td>\n",
       "      <td>...</td>\n",
       "      <td>...</td>\n",
       "      <td>...</td>\n",
       "      <td>...</td>\n",
       "    </tr>\n",
       "    <tr>\n",
       "      <th>9767</th>\n",
       "      <td>CODA_TB_1107</td>\n",
       "      <td>1658214018804-recording-1.wav</td>\n",
       "      <td>0.941761</td>\n",
       "      <td>0</td>\n",
       "      <td>9767</td>\n",
       "      <td>0.0</td>\n",
       "    </tr>\n",
       "    <tr>\n",
       "      <th>9768</th>\n",
       "      <td>CODA_TB_1107</td>\n",
       "      <td>1658213992939-recording-1.wav</td>\n",
       "      <td>0.904569</td>\n",
       "      <td>0</td>\n",
       "      <td>9768</td>\n",
       "      <td>0.0</td>\n",
       "    </tr>\n",
       "    <tr>\n",
       "      <th>9769</th>\n",
       "      <td>CODA_TB_1107</td>\n",
       "      <td>1658213992139-recording-1.wav</td>\n",
       "      <td>0.934713</td>\n",
       "      <td>0</td>\n",
       "      <td>9769</td>\n",
       "      <td>0.0</td>\n",
       "    </tr>\n",
       "    <tr>\n",
       "      <th>9770</th>\n",
       "      <td>CODA_TB_1107</td>\n",
       "      <td>1658213940569-recording-1.wav</td>\n",
       "      <td>0.912813</td>\n",
       "      <td>0</td>\n",
       "      <td>9770</td>\n",
       "      <td>0.0</td>\n",
       "    </tr>\n",
       "    <tr>\n",
       "      <th>9771</th>\n",
       "      <td>CODA_TB_1107</td>\n",
       "      <td>1658213974948-recording-1.wav</td>\n",
       "      <td>0.939352</td>\n",
       "      <td>0</td>\n",
       "      <td>9771</td>\n",
       "      <td>0.0</td>\n",
       "    </tr>\n",
       "  </tbody>\n",
       "</table>\n",
       "<p>9772 rows × 6 columns</p>\n",
       "</div>"
      ],
      "text/plain": [
       "       participant                       filename  sound_prediction_score  \\\n",
       "0     CODA_TB_0001  1645088710003-recording-1.wav                0.990254   \n",
       "1     CODA_TB_0001  1645088760390-recording-1.wav                0.990272   \n",
       "2     CODA_TB_0001  1645088760830-recording-1.wav                0.990112   \n",
       "3     CODA_TB_0001  1645088710843-recording-1.wav                0.990152   \n",
       "4     CODA_TB_0001  1645088759950-recording-1.wav                0.990039   \n",
       "...            ...                            ...                     ...   \n",
       "9767  CODA_TB_1107  1658214018804-recording-1.wav                0.941761   \n",
       "9768  CODA_TB_1107  1658213992939-recording-1.wav                0.904569   \n",
       "9769  CODA_TB_1107  1658213992139-recording-1.wav                0.934713   \n",
       "9770  CODA_TB_1107  1658213940569-recording-1.wav                0.912813   \n",
       "9771  CODA_TB_1107  1658213974948-recording-1.wav                0.939352   \n",
       "\n",
       "      tb_status  orig_id  fold  \n",
       "0             0        0   2.0  \n",
       "1             0        1   2.0  \n",
       "2             0        2   2.0  \n",
       "3             0        3   2.0  \n",
       "4             0        4   2.0  \n",
       "...         ...      ...   ...  \n",
       "9767          0     9767   0.0  \n",
       "9768          0     9768   0.0  \n",
       "9769          0     9769   0.0  \n",
       "9770          0     9770   0.0  \n",
       "9771          0     9771   0.0  \n",
       "\n",
       "[9772 rows x 6 columns]"
      ]
     },
     "execution_count": 11,
     "metadata": {},
     "output_type": "execute_result"
    }
   ],
   "source": [
    "df"
   ]
  },
  {
   "cell_type": "code",
   "execution_count": 12,
   "id": "73a81d52",
   "metadata": {
    "execution": {
     "iopub.execute_input": "2023-11-30T23:39:44.438370Z",
     "iopub.status.busy": "2023-11-30T23:39:44.437906Z",
     "iopub.status.idle": "2023-11-30T23:39:44.443921Z",
     "shell.execute_reply": "2023-11-30T23:39:44.443011Z"
    },
    "papermill": {
     "duration": 0.021128,
     "end_time": "2023-11-30T23:39:44.445742",
     "exception": false,
     "start_time": "2023-11-30T23:39:44.424614",
     "status": "completed"
    },
    "tags": []
   },
   "outputs": [],
   "source": [
    "df['path'] = \"/kaggle/input/tb-coughs-audio/data/solicited/\" + df['filename']"
   ]
  },
  {
   "cell_type": "markdown",
   "id": "cfda508f",
   "metadata": {
    "papermill": {
     "duration": 0.012746,
     "end_time": "2023-11-30T23:39:44.470779",
     "exception": false,
     "start_time": "2023-11-30T23:39:44.458033",
     "status": "completed"
    },
    "tags": []
   },
   "source": [
    "## Datasets"
   ]
  },
  {
   "cell_type": "code",
   "execution_count": 13,
   "id": "4786a185",
   "metadata": {
    "execution": {
     "iopub.execute_input": "2023-11-30T23:39:44.498763Z",
     "iopub.status.busy": "2023-11-30T23:39:44.498484Z",
     "iopub.status.idle": "2023-11-30T23:41:29.161448Z",
     "shell.execute_reply": "2023-11-30T23:41:29.160511Z"
    },
    "papermill": {
     "duration": 104.692858,
     "end_time": "2023-11-30T23:41:29.178187",
     "exception": false,
     "start_time": "2023-11-30T23:39:44.485329",
     "status": "completed"
    },
    "tags": []
   },
   "outputs": [
    {
     "data": {
      "text/html": [
       "<div>\n",
       "<style scoped>\n",
       "    .dataframe tbody tr th:only-of-type {\n",
       "        vertical-align: middle;\n",
       "    }\n",
       "\n",
       "    .dataframe tbody tr th {\n",
       "        vertical-align: top;\n",
       "    }\n",
       "\n",
       "    .dataframe thead th {\n",
       "        text-align: right;\n",
       "    }\n",
       "</style>\n",
       "<table border=\"1\" class=\"dataframe\">\n",
       "  <thead>\n",
       "    <tr style=\"text-align: right;\">\n",
       "      <th></th>\n",
       "      <th>participant</th>\n",
       "      <th>filename</th>\n",
       "      <th>sound_prediction_score</th>\n",
       "      <th>tb_status</th>\n",
       "      <th>orig_id</th>\n",
       "      <th>fold</th>\n",
       "      <th>path</th>\n",
       "      <th>samples</th>\n",
       "    </tr>\n",
       "  </thead>\n",
       "  <tbody>\n",
       "    <tr>\n",
       "      <th>0</th>\n",
       "      <td>CODA_TB_0001</td>\n",
       "      <td>1645088710003-recording-1.wav</td>\n",
       "      <td>0.990254</td>\n",
       "      <td>0</td>\n",
       "      <td>0</td>\n",
       "      <td>2.0</td>\n",
       "      <td>/kaggle/input/tb-coughs-audio/data/solicited/1...</td>\n",
       "      <td>22050</td>\n",
       "    </tr>\n",
       "    <tr>\n",
       "      <th>1</th>\n",
       "      <td>CODA_TB_0001</td>\n",
       "      <td>1645088760390-recording-1.wav</td>\n",
       "      <td>0.990272</td>\n",
       "      <td>0</td>\n",
       "      <td>1</td>\n",
       "      <td>2.0</td>\n",
       "      <td>/kaggle/input/tb-coughs-audio/data/solicited/1...</td>\n",
       "      <td>22050</td>\n",
       "    </tr>\n",
       "    <tr>\n",
       "      <th>2</th>\n",
       "      <td>CODA_TB_0001</td>\n",
       "      <td>1645088760830-recording-1.wav</td>\n",
       "      <td>0.990112</td>\n",
       "      <td>0</td>\n",
       "      <td>2</td>\n",
       "      <td>2.0</td>\n",
       "      <td>/kaggle/input/tb-coughs-audio/data/solicited/1...</td>\n",
       "      <td>22050</td>\n",
       "    </tr>\n",
       "    <tr>\n",
       "      <th>3</th>\n",
       "      <td>CODA_TB_0001</td>\n",
       "      <td>1645088710843-recording-1.wav</td>\n",
       "      <td>0.990152</td>\n",
       "      <td>0</td>\n",
       "      <td>3</td>\n",
       "      <td>2.0</td>\n",
       "      <td>/kaggle/input/tb-coughs-audio/data/solicited/1...</td>\n",
       "      <td>22050</td>\n",
       "    </tr>\n",
       "    <tr>\n",
       "      <th>4</th>\n",
       "      <td>CODA_TB_0001</td>\n",
       "      <td>1645088759950-recording-1.wav</td>\n",
       "      <td>0.990039</td>\n",
       "      <td>0</td>\n",
       "      <td>4</td>\n",
       "      <td>2.0</td>\n",
       "      <td>/kaggle/input/tb-coughs-audio/data/solicited/1...</td>\n",
       "      <td>22050</td>\n",
       "    </tr>\n",
       "    <tr>\n",
       "      <th>...</th>\n",
       "      <td>...</td>\n",
       "      <td>...</td>\n",
       "      <td>...</td>\n",
       "      <td>...</td>\n",
       "      <td>...</td>\n",
       "      <td>...</td>\n",
       "      <td>...</td>\n",
       "      <td>...</td>\n",
       "    </tr>\n",
       "    <tr>\n",
       "      <th>9767</th>\n",
       "      <td>CODA_TB_1107</td>\n",
       "      <td>1658214018804-recording-1.wav</td>\n",
       "      <td>0.941761</td>\n",
       "      <td>0</td>\n",
       "      <td>9767</td>\n",
       "      <td>0.0</td>\n",
       "      <td>/kaggle/input/tb-coughs-audio/data/solicited/1...</td>\n",
       "      <td>22050</td>\n",
       "    </tr>\n",
       "    <tr>\n",
       "      <th>9768</th>\n",
       "      <td>CODA_TB_1107</td>\n",
       "      <td>1658213992939-recording-1.wav</td>\n",
       "      <td>0.904569</td>\n",
       "      <td>0</td>\n",
       "      <td>9768</td>\n",
       "      <td>0.0</td>\n",
       "      <td>/kaggle/input/tb-coughs-audio/data/solicited/1...</td>\n",
       "      <td>22050</td>\n",
       "    </tr>\n",
       "    <tr>\n",
       "      <th>9769</th>\n",
       "      <td>CODA_TB_1107</td>\n",
       "      <td>1658213992139-recording-1.wav</td>\n",
       "      <td>0.934713</td>\n",
       "      <td>0</td>\n",
       "      <td>9769</td>\n",
       "      <td>0.0</td>\n",
       "      <td>/kaggle/input/tb-coughs-audio/data/solicited/1...</td>\n",
       "      <td>22050</td>\n",
       "    </tr>\n",
       "    <tr>\n",
       "      <th>9770</th>\n",
       "      <td>CODA_TB_1107</td>\n",
       "      <td>1658213940569-recording-1.wav</td>\n",
       "      <td>0.912813</td>\n",
       "      <td>0</td>\n",
       "      <td>9770</td>\n",
       "      <td>0.0</td>\n",
       "      <td>/kaggle/input/tb-coughs-audio/data/solicited/1...</td>\n",
       "      <td>22050</td>\n",
       "    </tr>\n",
       "    <tr>\n",
       "      <th>9771</th>\n",
       "      <td>CODA_TB_1107</td>\n",
       "      <td>1658213974948-recording-1.wav</td>\n",
       "      <td>0.939352</td>\n",
       "      <td>0</td>\n",
       "      <td>9771</td>\n",
       "      <td>0.0</td>\n",
       "      <td>/kaggle/input/tb-coughs-audio/data/solicited/1...</td>\n",
       "      <td>22050</td>\n",
       "    </tr>\n",
       "  </tbody>\n",
       "</table>\n",
       "<p>9772 rows × 8 columns</p>\n",
       "</div>"
      ],
      "text/plain": [
       "       participant                       filename  sound_prediction_score  \\\n",
       "0     CODA_TB_0001  1645088710003-recording-1.wav                0.990254   \n",
       "1     CODA_TB_0001  1645088760390-recording-1.wav                0.990272   \n",
       "2     CODA_TB_0001  1645088760830-recording-1.wav                0.990112   \n",
       "3     CODA_TB_0001  1645088710843-recording-1.wav                0.990152   \n",
       "4     CODA_TB_0001  1645088759950-recording-1.wav                0.990039   \n",
       "...            ...                            ...                     ...   \n",
       "9767  CODA_TB_1107  1658214018804-recording-1.wav                0.941761   \n",
       "9768  CODA_TB_1107  1658213992939-recording-1.wav                0.904569   \n",
       "9769  CODA_TB_1107  1658213992139-recording-1.wav                0.934713   \n",
       "9770  CODA_TB_1107  1658213940569-recording-1.wav                0.912813   \n",
       "9771  CODA_TB_1107  1658213974948-recording-1.wav                0.939352   \n",
       "\n",
       "      tb_status  orig_id  fold  \\\n",
       "0             0        0   2.0   \n",
       "1             0        1   2.0   \n",
       "2             0        2   2.0   \n",
       "3             0        3   2.0   \n",
       "4             0        4   2.0   \n",
       "...         ...      ...   ...   \n",
       "9767          0     9767   0.0   \n",
       "9768          0     9768   0.0   \n",
       "9769          0     9769   0.0   \n",
       "9770          0     9770   0.0   \n",
       "9771          0     9771   0.0   \n",
       "\n",
       "                                                   path  samples  \n",
       "0     /kaggle/input/tb-coughs-audio/data/solicited/1...    22050  \n",
       "1     /kaggle/input/tb-coughs-audio/data/solicited/1...    22050  \n",
       "2     /kaggle/input/tb-coughs-audio/data/solicited/1...    22050  \n",
       "3     /kaggle/input/tb-coughs-audio/data/solicited/1...    22050  \n",
       "4     /kaggle/input/tb-coughs-audio/data/solicited/1...    22050  \n",
       "...                                                 ...      ...  \n",
       "9767  /kaggle/input/tb-coughs-audio/data/solicited/1...    22050  \n",
       "9768  /kaggle/input/tb-coughs-audio/data/solicited/1...    22050  \n",
       "9769  /kaggle/input/tb-coughs-audio/data/solicited/1...    22050  \n",
       "9770  /kaggle/input/tb-coughs-audio/data/solicited/1...    22050  \n",
       "9771  /kaggle/input/tb-coughs-audio/data/solicited/1...    22050  \n",
       "\n",
       "[9772 rows x 8 columns]"
      ]
     },
     "execution_count": 13,
     "metadata": {},
     "output_type": "execute_result"
    }
   ],
   "source": [
    "#add samples\n",
    "df['samples'] = df.apply(lambda row: get_sample_length(row['filename'],solicited ), axis=1)\n",
    "df"
   ]
  },
  {
   "cell_type": "code",
   "execution_count": 14,
   "id": "4597dbac",
   "metadata": {
    "execution": {
     "iopub.execute_input": "2023-11-30T23:41:29.206430Z",
     "iopub.status.busy": "2023-11-30T23:41:29.205538Z",
     "iopub.status.idle": "2023-11-30T23:41:29.218645Z",
     "shell.execute_reply": "2023-11-30T23:41:29.217768Z"
    },
    "papermill": {
     "duration": 0.028687,
     "end_time": "2023-11-30T23:41:29.220574",
     "exception": false,
     "start_time": "2023-11-30T23:41:29.191887",
     "status": "completed"
    },
    "tags": []
   },
   "outputs": [],
   "source": [
    "#Librosa version\n",
    "class Dataset_from_df(torch.utils.data.Dataset):\n",
    "    def __init__(self, file_df, path, crop_length=22050):\n",
    "        self.file_df = file_df\n",
    "        self.path = path\n",
    "        self.crop_length = crop_length\n",
    "        \n",
    "\n",
    "    def __len__(self):\n",
    "        return len(self.file_df)\n",
    "\n",
    "    def __getitem__(self, index):\n",
    "        def _randint(a, b):\n",
    "            return torch.randint(a, b, (1, )).item()\n",
    "        \n",
    "\n",
    "        target = self.file_df.iloc[index]['tb_status']*1.0\n",
    "        length = self.file_df.iloc[index]['samples']\n",
    "        \n",
    "\n",
    "        p = self.file_df.iloc[index]['path']\n",
    "        orig_id = self.file_df.iloc[index]['orig_id']\n",
    "\n",
    "        if length == self.crop_length:\n",
    "            x, sr = librosa.load(str(p),sr=None)\n",
    "            \n",
    "        elif length < self.crop_length:\n",
    "            s, sr = librosa.load(str(p),sr=None)\n",
    "\n",
    "            zeros_front = (_randint(0, self.crop_length - length))\n",
    "            pad_front = np.zeros(( zeros_front))\n",
    "            pad_back = np.zeros(( self.crop_length - length - zeros_front))\n",
    "            waveform = np.concatenate((pad_front, s, pad_back), 0)\n",
    "            x = waveform    \n",
    "            \n",
    "            \n",
    "            \n",
    "        else:\n",
    "            crop_start = _randint(0, int(length - self.crop_length))\n",
    "            x, sr = librosa.load(str(p),sr=None)\n",
    "            x = x[crop_start:self.crop_length+crop_start]\n",
    "            \n",
    "        # transform sound sample to spectrum\n",
    "        x = np.abs(librosa.stft(x,n_fft = 1024,hop_length=64,window ='hanning'))\n",
    "        x = librosa.amplitude_to_db(x).astype(np.float32)\n",
    "        x = (x-np.min(x))/(np.max(x)-np.min(x))\n",
    "        x = np.flip(x[1:349,:],0).copy() # approx 50Hz to 15000Hz\n",
    "  \n",
    "        \n",
    "        x=torch.from_numpy(x).unsqueeze(0)\n",
    "        #print(x.shape)\n",
    "\n",
    "        return {'x':x, 'sr':sr, 'target':torch.FloatTensor([target, 1.0-target]),'orig_id':orig_id}\n",
    "    "
   ]
  },
  {
   "cell_type": "code",
   "execution_count": 15,
   "id": "b17d56a9",
   "metadata": {
    "execution": {
     "iopub.execute_input": "2023-11-30T23:41:29.247041Z",
     "iopub.status.busy": "2023-11-30T23:41:29.246684Z",
     "iopub.status.idle": "2023-11-30T23:41:29.253578Z",
     "shell.execute_reply": "2023-11-30T23:41:29.252786Z"
    },
    "papermill": {
     "duration": 0.022192,
     "end_time": "2023-11-30T23:41:29.255483",
     "exception": false,
     "start_time": "2023-11-30T23:41:29.233291",
     "status": "completed"
    },
    "tags": []
   },
   "outputs": [],
   "source": [
    "def prepare_datasets(df_sol, fold):\n",
    "    \n",
    "    df_train = df_sol\n",
    "    df_valid = df_sol\n",
    "    train_df = df_train.query(\"fold!=@fold\").reset_index(drop=True)\n",
    "    valid_df = df_valid.query(\"fold==@fold\").reset_index(drop=True)\n",
    "    \n",
    "    #balance the data set using resampling\n",
    "    df_counts = pd.DataFrame(train_df.groupby(['tb_status']).size().reset_index()).rename(columns={0:\"counts\"})\n",
    "    df_counts['weights'] = df_counts['counts'].max() / df_counts['counts']\n",
    "    df_balanced = pd.merge(train_df, df_counts[['tb_status','weights']], on='tb_status')\n",
    "    sampler = torch.utils.data.WeightedRandomSampler(df_balanced['weights'].values, len(df_balanced))\n",
    "\n",
    "    train_dataset = Dataset_from_df(train_df,TRAIN_FOLDER)\n",
    "    valid_dataset = Dataset_from_df(valid_df,TRAIN_FOLDER)\n",
    "    \n",
    "    return train_dataset, valid_dataset, sampler"
   ]
  },
  {
   "cell_type": "markdown",
   "id": "19c68654",
   "metadata": {
    "papermill": {
     "duration": 0.012806,
     "end_time": "2023-11-30T23:41:29.280982",
     "exception": false,
     "start_time": "2023-11-30T23:41:29.268176",
     "status": "completed"
    },
    "tags": []
   },
   "source": [
    "## Define the network"
   ]
  },
  {
   "cell_type": "code",
   "execution_count": 16,
   "id": "c4057ef4",
   "metadata": {
    "execution": {
     "iopub.execute_input": "2023-11-30T23:41:29.307794Z",
     "iopub.status.busy": "2023-11-30T23:41:29.307534Z",
     "iopub.status.idle": "2023-11-30T23:41:29.312770Z",
     "shell.execute_reply": "2023-11-30T23:41:29.311931Z"
    },
    "papermill": {
     "duration": 0.020904,
     "end_time": "2023-11-30T23:41:29.314719",
     "exception": false,
     "start_time": "2023-11-30T23:41:29.293815",
     "status": "completed"
    },
    "tags": []
   },
   "outputs": [],
   "source": [
    "#A transform that turns a grayscale (1 channel) image to a 3 channel image\n",
    "class ChannelExpand(torch.nn.Module):\n",
    "    def __init__(self, channels):\n",
    "        super(ChannelExpand, self).__init__()\n",
    "        self.channels = channels\n",
    "    def forward(self,x):\n",
    "        #print(x.shape)\n",
    "        x = x.expand(-1,3,*x.shape[2:])\n",
    "        \n",
    "        return x"
   ]
  },
  {
   "cell_type": "code",
   "execution_count": 17,
   "id": "79419c04",
   "metadata": {
    "execution": {
     "iopub.execute_input": "2023-11-30T23:41:29.341125Z",
     "iopub.status.busy": "2023-11-30T23:41:29.340859Z",
     "iopub.status.idle": "2023-11-30T23:41:29.345756Z",
     "shell.execute_reply": "2023-11-30T23:41:29.344880Z"
    },
    "papermill": {
     "duration": 0.020282,
     "end_time": "2023-11-30T23:41:29.347584",
     "exception": false,
     "start_time": "2023-11-30T23:41:29.327302",
     "status": "completed"
    },
    "tags": []
   },
   "outputs": [],
   "source": [
    "om_descr = 'timm-resnet34-audio'\n",
    "\n",
    "def build_model():\n",
    "    # build a new model\n",
    "    model = timm.create_model('resnet34', pretrained=True,drop_rate = .50, num_classes=2)\n",
    "\n",
    "    to3_channel = ChannelExpand(3)\n",
    "\n",
    "    model = torch.nn.Sequential(to3_channel, model)\n",
    "    \n",
    "    return model"
   ]
  },
  {
   "cell_type": "markdown",
   "id": "7f5b5528",
   "metadata": {
    "papermill": {
     "duration": 0.012629,
     "end_time": "2023-11-30T23:41:29.373053",
     "exception": false,
     "start_time": "2023-11-30T23:41:29.360424",
     "status": "completed"
    },
    "tags": []
   },
   "source": [
    "## Training and Inference functions"
   ]
  },
  {
   "cell_type": "code",
   "execution_count": 18,
   "id": "c47cd68f",
   "metadata": {
    "execution": {
     "iopub.execute_input": "2023-11-30T23:41:29.399666Z",
     "iopub.status.busy": "2023-11-30T23:41:29.399390Z",
     "iopub.status.idle": "2023-11-30T23:41:29.407237Z",
     "shell.execute_reply": "2023-11-30T23:41:29.406363Z"
    },
    "papermill": {
     "duration": 0.02327,
     "end_time": "2023-11-30T23:41:29.409040",
     "exception": false,
     "start_time": "2023-11-30T23:41:29.385770",
     "status": "completed"
    },
    "tags": []
   },
   "outputs": [],
   "source": [
    "def trainfp32(epoch, train_dataloader, optimizer, loss_fn, lr_scheduler,\n",
    "              metric_fn, model):\n",
    "\n",
    "\n",
    "\n",
    "    model.train()\n",
    "\n",
    "    training_loss = 0\n",
    "    metric = 0\n",
    "\n",
    "    m = torch.nn.Softmax(dim=1)\n",
    "    pbar = tqdm(total=len(train_dataloader))\n",
    "\n",
    "    for batch in train_dataloader:\n",
    "\n",
    "        optimizer.zero_grad()\n",
    "\n",
    "\n",
    "        x = batch['x']\n",
    "        sr = batch['sr']\n",
    "\n",
    "        y = batch['target']\n",
    "\n",
    "        x = x.cuda(non_blocking=True)\n",
    "        y = y.cuda(non_blocking=True)\n",
    "\n",
    "        output = model(x)\n",
    "        \n",
    "        loss = loss_fn(m(output), y)\n",
    "\n",
    "        loss.backward()\n",
    "\n",
    "        optimizer.step()       \n",
    "\n",
    "        lr_scheduler.step()\n",
    "\n",
    "        training_loss += loss.data.item() * x.size(0)\n",
    "\n",
    "        metric += metric_fn(y, output) * x.size(0)\n",
    "\n",
    "        pbar.update(1)\n",
    "    pbar.close()\n",
    "    training_loss /= len(train_dataloader.dataset)\n",
    "    metric /= len(train_dataloader.dataset)\n",
    "    return training_loss, metric"
   ]
  },
  {
   "cell_type": "code",
   "execution_count": 19,
   "id": "dae30351",
   "metadata": {
    "execution": {
     "iopub.execute_input": "2023-11-30T23:41:29.435324Z",
     "iopub.status.busy": "2023-11-30T23:41:29.435022Z",
     "iopub.status.idle": "2023-11-30T23:41:29.442736Z",
     "shell.execute_reply": "2023-11-30T23:41:29.441894Z"
    },
    "papermill": {
     "duration": 0.022981,
     "end_time": "2023-11-30T23:41:29.444630",
     "exception": false,
     "start_time": "2023-11-30T23:41:29.421649",
     "status": "completed"
    },
    "tags": []
   },
   "outputs": [],
   "source": [
    "def inferfp32(valid_dataloader, model):\n",
    "    act = np.zeros(len(validation_dataloader.dataset))\n",
    "    pred = np.zeros(len(validation_dataloader.dataset))\n",
    "    orig_id = np.zeros(len(validation_dataloader.dataset))\n",
    "\n",
    "\n",
    "    m = torch.nn.Softmax(dim=1)\n",
    "    \n",
    "    model.eval()\n",
    "    pbar = tqdm(total=len(valid_dataloader))\n",
    "\n",
    "    st = 0\n",
    "    for batch in valid_dataloader:\n",
    "        x = batch['x']\n",
    "        sr = batch['sr']\n",
    "        y = batch['target']\n",
    "        x = x.cuda(non_blocking=True)\n",
    "        \n",
    "        output = model(x)\n",
    "        \n",
    "        \n",
    "        en = st + y.shape[0]\n",
    "        act[st:en] = y[:,0].numpy()\n",
    "        pred[st:en] = m(output)[:,0].cpu().detach().numpy()\n",
    "        orig_id[st:en] = batch['orig_id']\n",
    "        st = en\n",
    "        \n",
    "        pbar.update(1)\n",
    "    pbar.close()\n",
    "    \n",
    "    \n",
    "    return act, pred, orig_id"
   ]
  },
  {
   "cell_type": "code",
   "execution_count": 20,
   "id": "9be73240",
   "metadata": {
    "execution": {
     "iopub.execute_input": "2023-11-30T23:41:29.471360Z",
     "iopub.status.busy": "2023-11-30T23:41:29.470821Z",
     "iopub.status.idle": "2023-11-30T23:41:29.476593Z",
     "shell.execute_reply": "2023-11-30T23:41:29.475699Z"
    },
    "papermill": {
     "duration": 0.020943,
     "end_time": "2023-11-30T23:41:29.478336",
     "exception": false,
     "start_time": "2023-11-30T23:41:29.457393",
     "status": "completed"
    },
    "tags": []
   },
   "outputs": [],
   "source": [
    "def plot_metrics(loss, metric):\n",
    "    fig, ax = plt.subplots(2,1,figsize=(15,15))\n",
    "    loss_line, = ax[0].plot(loss, label='loss')\n",
    "    metric_line, = ax[1].plot(metric, label='metric')\n",
    "    ax[0].legend(handles=[loss_line])\n",
    "    ax[1].legend(handles=[metric_line])\n",
    "    ax[0].set_title( \"loss\")\n",
    "    ax[1].set_title( \"metric\")\n",
    "    plt.show()"
   ]
  },
  {
   "cell_type": "markdown",
   "id": "1e236993",
   "metadata": {
    "ExecuteTime": {
     "end_time": "2023-02-13T02:11:23.418535Z",
     "start_time": "2023-02-13T02:11:23.412324Z"
    },
    "papermill": {
     "duration": 0.012456,
     "end_time": "2023-11-30T23:41:29.503335",
     "exception": false,
     "start_time": "2023-11-30T23:41:29.490879",
     "status": "completed"
    },
    "tags": []
   },
   "source": [
    "## Metrics"
   ]
  },
  {
   "cell_type": "code",
   "execution_count": 21,
   "id": "7c4085b1",
   "metadata": {
    "execution": {
     "iopub.execute_input": "2023-11-30T23:41:29.530890Z",
     "iopub.status.busy": "2023-11-30T23:41:29.530568Z",
     "iopub.status.idle": "2023-11-30T23:41:29.537956Z",
     "shell.execute_reply": "2023-11-30T23:41:29.537088Z"
    },
    "papermill": {
     "duration": 0.023149,
     "end_time": "2023-11-30T23:41:29.539948",
     "exception": false,
     "start_time": "2023-11-30T23:41:29.516799",
     "status": "completed"
    },
    "tags": []
   },
   "outputs": [],
   "source": [
    "from sklearn.metrics import roc_curve,roc_auc_score,accuracy_score, f1_score, log_loss, precision_score, recall_score\n",
    "from sklearn.metrics import RocCurveDisplay\n",
    "from sklearn.metrics import auc\n",
    "\n",
    "def p_auroc(act,pred,fpr_thresh=1.0,tpr_thresh=0.0):\n",
    "    fpr, tpr, _ = roc_curve(act, pred)\n",
    "    #roc_display = RocCurveDisplay(fpr=fpr, tpr=tpr).plot()\n",
    "    print('auroc=',roc_auc_score(act,pred))\n",
    "    i = fpr <= fpr_thresh\n",
    "    j = tpr >= tpr_thresh\n",
    "    \n",
    "    if len(fpr[i&j]) > 1 :\n",
    "        pauc_approx = auc(fpr[i&j], tpr[i&j]-tpr_thresh)\n",
    "\n",
    "        max_ij = np.argmax(fpr[i&j])\n",
    "        pauc_extra = (fpr_thresh-fpr[i&j][max_ij]) * (tpr[i&j][max_ij]-tpr_thresh)\n",
    "        pauc_better = pauc_approx + pauc_extra\n",
    "    else:\n",
    "        pauc_better = 0\n",
    "\n",
    "    return pauc_better\n",
    "    "
   ]
  },
  {
   "cell_type": "code",
   "execution_count": 22,
   "id": "c976681a",
   "metadata": {
    "execution": {
     "iopub.execute_input": "2023-11-30T23:41:29.566932Z",
     "iopub.status.busy": "2023-11-30T23:41:29.566632Z",
     "iopub.status.idle": "2023-11-30T23:41:29.572621Z",
     "shell.execute_reply": "2023-11-30T23:41:29.571723Z"
    },
    "papermill": {
     "duration": 0.02167,
     "end_time": "2023-11-30T23:41:29.574439",
     "exception": false,
     "start_time": "2023-11-30T23:41:29.552769",
     "status": "completed"
    },
    "tags": []
   },
   "outputs": [],
   "source": [
    "from sklearn.metrics import f1_score, accuracy_score, average_precision_score\n",
    "\n",
    "\n",
    "def f1_torch(output, target):\n",
    "    y_pred = output.argmax(axis=1)\n",
    "    y_true = target.argmax(axis=1)\n",
    "    np_true = y_true.to(\"cpu\").to(torch.int).numpy()\n",
    "    np_pred = y_pred.to(\"cpu\").to(torch.int).numpy()\n",
    "    return f1_score(np_true, np_pred, average=\"micro\", zero_division=0)\n"
   ]
  },
  {
   "cell_type": "markdown",
   "id": "a128cdc6",
   "metadata": {
    "papermill": {
     "duration": 0.013093,
     "end_time": "2023-11-30T23:41:29.600331",
     "exception": false,
     "start_time": "2023-11-30T23:41:29.587238",
     "status": "completed"
    },
    "tags": []
   },
   "source": [
    "### training parameters"
   ]
  },
  {
   "cell_type": "code",
   "execution_count": 23,
   "id": "14da9cf3",
   "metadata": {
    "execution": {
     "iopub.execute_input": "2023-11-30T23:41:29.626890Z",
     "iopub.status.busy": "2023-11-30T23:41:29.626602Z",
     "iopub.status.idle": "2023-11-30T23:41:29.631201Z",
     "shell.execute_reply": "2023-11-30T23:41:29.630438Z"
    },
    "papermill": {
     "duration": 0.02009,
     "end_time": "2023-11-30T23:41:29.633144",
     "exception": false,
     "start_time": "2023-11-30T23:41:29.613054",
     "status": "completed"
    },
    "tags": []
   },
   "outputs": [],
   "source": [
    "init_lr = .0005\n",
    "num_epochs= 10\n",
    "\n",
    "loss_fn = torch.nn.CrossEntropyLoss()\n",
    "num_folds = 5\n",
    "load_weights = False\n",
    "training_phase = 1"
   ]
  },
  {
   "cell_type": "markdown",
   "id": "79543f87",
   "metadata": {
    "papermill": {
     "duration": 0.012465,
     "end_time": "2023-11-30T23:41:29.658268",
     "exception": false,
     "start_time": "2023-11-30T23:41:29.645803",
     "status": "completed"
    },
    "tags": []
   },
   "source": [
    "## Training Loop"
   ]
  },
  {
   "cell_type": "code",
   "execution_count": 24,
   "id": "e071a151",
   "metadata": {
    "execution": {
     "iopub.execute_input": "2023-11-30T23:41:29.684878Z",
     "iopub.status.busy": "2023-11-30T23:41:29.684607Z",
     "iopub.status.idle": "2023-11-30T23:54:24.948809Z",
     "shell.execute_reply": "2023-11-30T23:54:24.947847Z"
    },
    "papermill": {
     "duration": 775.28012,
     "end_time": "2023-11-30T23:54:24.951045",
     "exception": false,
     "start_time": "2023-11-30T23:41:29.670925",
     "status": "completed"
    },
    "scrolled": true,
    "tags": []
   },
   "outputs": [
    {
     "data": {
      "application/vnd.jupyter.widget-view+json": {
       "model_id": "2355332377b14f5f81c2cd0b983f5b7f",
       "version_major": 2,
       "version_minor": 0
      },
      "text/plain": [
       "Downloading model.safetensors:   0%|          | 0.00/87.3M [00:00<?, ?B/s]"
      ]
     },
     "metadata": {},
     "output_type": "display_data"
    },
    {
     "name": "stderr",
     "output_type": "stream",
     "text": [
      "/opt/conda/lib/python3.10/site-packages/torch/utils/data/dataloader.py:561: UserWarning: This DataLoader will create 12 worker processes in total. Our suggested max number of worker in current system is 4, which is smaller than what this DataLoader is going to create. Please be aware that excessive worker creation might get DataLoader running slow or even freeze, lower the worker number to avoid potential slowness/freeze if necessary.\n",
      "  warnings.warn(_create_warning_msg(\n"
     ]
    },
    {
     "name": "stdout",
     "output_type": "stream",
     "text": [
      "----------\n",
      "fold 2/5\n",
      "Fold:1 epoch 1/10  LR=1.9999999999999998e-05\n"
     ]
    },
    {
     "name": "stderr",
     "output_type": "stream",
     "text": [
      "100%|██████████| 123/123 [01:29<00:00,  1.37it/s]\n"
     ]
    },
    {
     "name": "stdout",
     "output_type": "stream",
     "text": [
      "Training-- Loss: 0.6443, Metric: 0.675,"
     ]
    },
    {
     "name": "stderr",
     "output_type": "stream",
     "text": [
      "  0%|          | 0/30 [00:00<?, ?it/s]/opt/conda/lib/python3.10/site-packages/torch/utils/data/dataloader.py:561: UserWarning: This DataLoader will create 12 worker processes in total. Our suggested max number of worker in current system is 4, which is smaller than what this DataLoader is going to create. Please be aware that excessive worker creation might get DataLoader running slow or even freeze, lower the worker number to avoid potential slowness/freeze if necessary.\n",
      "  warnings.warn(_create_warning_msg(\n",
      "100%|██████████| 30/30 [00:15<00:00,  1.88it/s]\n"
     ]
    },
    {
     "name": "stdout",
     "output_type": "stream",
     "text": [
      "Validation--  Metrics: accuracy=0.72918, sensitivity=0.859,specificity=0.288, auroc=0.576\n",
      "saved new best metric model\n",
      "Fold:1 epoch 2/10  LR=0.00014059194137776287\n"
     ]
    },
    {
     "name": "stderr",
     "output_type": "stream",
     "text": [
      "  0%|          | 0/123 [00:00<?, ?it/s]/opt/conda/lib/python3.10/site-packages/torch/utils/data/dataloader.py:561: UserWarning: This DataLoader will create 12 worker processes in total. Our suggested max number of worker in current system is 4, which is smaller than what this DataLoader is going to create. Please be aware that excessive worker creation might get DataLoader running slow or even freeze, lower the worker number to avoid potential slowness/freeze if necessary.\n",
      "  warnings.warn(_create_warning_msg(\n",
      "100%|██████████| 123/123 [00:58<00:00,  2.12it/s]\n"
     ]
    },
    {
     "name": "stdout",
     "output_type": "stream",
     "text": [
      "Training-- Loss: 0.5844, Metric: 0.701,"
     ]
    },
    {
     "name": "stderr",
     "output_type": "stream",
     "text": [
      "  0%|          | 0/30 [00:00<?, ?it/s]/opt/conda/lib/python3.10/site-packages/torch/utils/data/dataloader.py:561: UserWarning: This DataLoader will create 12 worker processes in total. Our suggested max number of worker in current system is 4, which is smaller than what this DataLoader is going to create. Please be aware that excessive worker creation might get DataLoader running slow or even freeze, lower the worker number to avoid potential slowness/freeze if necessary.\n",
      "  warnings.warn(_create_warning_msg(\n",
      "100%|██████████| 30/30 [00:15<00:00,  1.89it/s]\n"
     ]
    },
    {
     "name": "stdout",
     "output_type": "stream",
     "text": [
      "Validation--  Metrics: accuracy=0.71556, sensitivity=0.689,specificity=0.328, auroc=0.622\n",
      "saved new best metric model\n",
      "Fold:1 epoch 3/10  LR=0.00038118096280056985\n"
     ]
    },
    {
     "name": "stderr",
     "output_type": "stream",
     "text": [
      "  0%|          | 0/123 [00:00<?, ?it/s]/opt/conda/lib/python3.10/site-packages/torch/utils/data/dataloader.py:561: UserWarning: This DataLoader will create 12 worker processes in total. Our suggested max number of worker in current system is 4, which is smaller than what this DataLoader is going to create. Please be aware that excessive worker creation might get DataLoader running slow or even freeze, lower the worker number to avoid potential slowness/freeze if necessary.\n",
      "  warnings.warn(_create_warning_msg(\n",
      "100%|██████████| 123/123 [00:58<00:00,  2.10it/s]\n"
     ]
    },
    {
     "name": "stdout",
     "output_type": "stream",
     "text": [
      "Training-- Loss: 0.5524, Metric: 0.747,"
     ]
    },
    {
     "name": "stderr",
     "output_type": "stream",
     "text": [
      "  0%|          | 0/30 [00:00<?, ?it/s]/opt/conda/lib/python3.10/site-packages/torch/utils/data/dataloader.py:561: UserWarning: This DataLoader will create 12 worker processes in total. Our suggested max number of worker in current system is 4, which is smaller than what this DataLoader is going to create. Please be aware that excessive worker creation might get DataLoader running slow or even freeze, lower the worker number to avoid potential slowness/freeze if necessary.\n",
      "  warnings.warn(_create_warning_msg(\n",
      "100%|██████████| 30/30 [00:16<00:00,  1.83it/s]\n"
     ]
    },
    {
     "name": "stdout",
     "output_type": "stream",
     "text": [
      "Validation--  Metrics: accuracy=0.55107, sensitivity=0.909,specificity=0.293, auroc=0.641\n",
      "saved new best metric model\n",
      "Fold:1 epoch 4/10  LR=0.0004999983358164054\n"
     ]
    },
    {
     "name": "stderr",
     "output_type": "stream",
     "text": [
      "  0%|          | 0/123 [00:00<?, ?it/s]/opt/conda/lib/python3.10/site-packages/torch/utils/data/dataloader.py:561: UserWarning: This DataLoader will create 12 worker processes in total. Our suggested max number of worker in current system is 4, which is smaller than what this DataLoader is going to create. Please be aware that excessive worker creation might get DataLoader running slow or even freeze, lower the worker number to avoid potential slowness/freeze if necessary.\n",
      "  warnings.warn(_create_warning_msg(\n",
      "100%|██████████| 123/123 [00:57<00:00,  2.12it/s]\n"
     ]
    },
    {
     "name": "stdout",
     "output_type": "stream",
     "text": [
      "Training-- Loss: 0.5193, Metric: 0.786,"
     ]
    },
    {
     "name": "stderr",
     "output_type": "stream",
     "text": [
      "  0%|          | 0/30 [00:00<?, ?it/s]/opt/conda/lib/python3.10/site-packages/torch/utils/data/dataloader.py:561: UserWarning: This DataLoader will create 12 worker processes in total. Our suggested max number of worker in current system is 4, which is smaller than what this DataLoader is going to create. Please be aware that excessive worker creation might get DataLoader running slow or even freeze, lower the worker number to avoid potential slowness/freeze if necessary.\n",
      "  warnings.warn(_create_warning_msg(\n",
      "100%|██████████| 30/30 [00:15<00:00,  1.90it/s]\n"
     ]
    },
    {
     "name": "stdout",
     "output_type": "stream",
     "text": [
      "Validation--  Metrics: accuracy=0.73599, sensitivity=0.261,specificity=0.469, auroc=0.658\n",
      "saved new best metric model\n",
      "Fold:1 epoch 5/10  LR=0.00047484503338568636\n"
     ]
    },
    {
     "name": "stderr",
     "output_type": "stream",
     "text": [
      "  0%|          | 0/123 [00:00<?, ?it/s]/opt/conda/lib/python3.10/site-packages/torch/utils/data/dataloader.py:561: UserWarning: This DataLoader will create 12 worker processes in total. Our suggested max number of worker in current system is 4, which is smaller than what this DataLoader is going to create. Please be aware that excessive worker creation might get DataLoader running slow or even freeze, lower the worker number to avoid potential slowness/freeze if necessary.\n",
      "  warnings.warn(_create_warning_msg(\n",
      "100%|██████████| 123/123 [00:57<00:00,  2.14it/s]\n"
     ]
    },
    {
     "name": "stdout",
     "output_type": "stream",
     "text": [
      "Training-- Loss: 0.4696, Metric: 0.839,"
     ]
    },
    {
     "name": "stderr",
     "output_type": "stream",
     "text": [
      "  0%|          | 0/30 [00:00<?, ?it/s]/opt/conda/lib/python3.10/site-packages/torch/utils/data/dataloader.py:561: UserWarning: This DataLoader will create 12 worker processes in total. Our suggested max number of worker in current system is 4, which is smaller than what this DataLoader is going to create. Please be aware that excessive worker creation might get DataLoader running slow or even freeze, lower the worker number to avoid potential slowness/freeze if necessary.\n",
      "  warnings.warn(_create_warning_msg(\n",
      "100%|██████████| 30/30 [00:15<00:00,  1.91it/s]\n"
     ]
    },
    {
     "name": "stdout",
     "output_type": "stream",
     "text": [
      "Validation--  Metrics: accuracy=0.55579, sensitivity=0.803,specificity=0.313, auroc=0.632\n",
      "Fold:1 epoch 6/10  LR=0.0004051586126118258\n"
     ]
    },
    {
     "name": "stderr",
     "output_type": "stream",
     "text": [
      "  0%|          | 0/123 [00:00<?, ?it/s]/opt/conda/lib/python3.10/site-packages/torch/utils/data/dataloader.py:561: UserWarning: This DataLoader will create 12 worker processes in total. Our suggested max number of worker in current system is 4, which is smaller than what this DataLoader is going to create. Please be aware that excessive worker creation might get DataLoader running slow or even freeze, lower the worker number to avoid potential slowness/freeze if necessary.\n",
      "  warnings.warn(_create_warning_msg(\n",
      "100%|██████████| 123/123 [00:58<00:00,  2.12it/s]\n"
     ]
    },
    {
     "name": "stdout",
     "output_type": "stream",
     "text": [
      "Training-- Loss: 0.4277, Metric: 0.886,"
     ]
    },
    {
     "name": "stderr",
     "output_type": "stream",
     "text": [
      "  0%|          | 0/30 [00:00<?, ?it/s]/opt/conda/lib/python3.10/site-packages/torch/utils/data/dataloader.py:561: UserWarning: This DataLoader will create 12 worker processes in total. Our suggested max number of worker in current system is 4, which is smaller than what this DataLoader is going to create. Please be aware that excessive worker creation might get DataLoader running slow or even freeze, lower the worker number to avoid potential slowness/freeze if necessary.\n",
      "  warnings.warn(_create_warning_msg(\n",
      "100%|██████████| 30/30 [00:16<00:00,  1.86it/s]\n"
     ]
    },
    {
     "name": "stdout",
     "output_type": "stream",
     "text": [
      "Validation--  Metrics: accuracy=0.69513, sensitivity=0.605,specificity=0.392, auroc=0.663\n",
      "saved new best metric model\n",
      "Fold:1 epoch 7/10  LR=0.00030474132377695135\n"
     ]
    },
    {
     "name": "stderr",
     "output_type": "stream",
     "text": [
      "  0%|          | 0/123 [00:00<?, ?it/s]/opt/conda/lib/python3.10/site-packages/torch/utils/data/dataloader.py:561: UserWarning: This DataLoader will create 12 worker processes in total. Our suggested max number of worker in current system is 4, which is smaller than what this DataLoader is going to create. Please be aware that excessive worker creation might get DataLoader running slow or even freeze, lower the worker number to avoid potential slowness/freeze if necessary.\n",
      "  warnings.warn(_create_warning_msg(\n",
      "100%|██████████| 123/123 [00:57<00:00,  2.15it/s]\n"
     ]
    },
    {
     "name": "stdout",
     "output_type": "stream",
     "text": [
      "Training-- Loss: 0.3928, Metric: 0.921,"
     ]
    },
    {
     "name": "stderr",
     "output_type": "stream",
     "text": [
      "  0%|          | 0/30 [00:00<?, ?it/s]/opt/conda/lib/python3.10/site-packages/torch/utils/data/dataloader.py:561: UserWarning: This DataLoader will create 12 worker processes in total. Our suggested max number of worker in current system is 4, which is smaller than what this DataLoader is going to create. Please be aware that excessive worker creation might get DataLoader running slow or even freeze, lower the worker number to avoid potential slowness/freeze if necessary.\n",
      "  warnings.warn(_create_warning_msg(\n",
      "100%|██████████| 30/30 [00:15<00:00,  1.91it/s]\n"
     ]
    },
    {
     "name": "stdout",
     "output_type": "stream",
     "text": [
      "Validation--  Metrics: accuracy=0.71399, sensitivity=0.476,specificity=0.410, auroc=0.672\n",
      "saved new best metric model\n",
      "Fold:1 epoch 8/10  LR=0.0001934820424720376\n"
     ]
    },
    {
     "name": "stderr",
     "output_type": "stream",
     "text": [
      "  0%|          | 0/123 [00:00<?, ?it/s]/opt/conda/lib/python3.10/site-packages/torch/utils/data/dataloader.py:561: UserWarning: This DataLoader will create 12 worker processes in total. Our suggested max number of worker in current system is 4, which is smaller than what this DataLoader is going to create. Please be aware that excessive worker creation might get DataLoader running slow or even freeze, lower the worker number to avoid potential slowness/freeze if necessary.\n",
      "  warnings.warn(_create_warning_msg(\n",
      "100%|██████████| 123/123 [00:57<00:00,  2.14it/s]\n"
     ]
    },
    {
     "name": "stdout",
     "output_type": "stream",
     "text": [
      "Training-- Loss: 0.3718, Metric: 0.942,"
     ]
    },
    {
     "name": "stderr",
     "output_type": "stream",
     "text": [
      "  0%|          | 0/30 [00:00<?, ?it/s]/opt/conda/lib/python3.10/site-packages/torch/utils/data/dataloader.py:561: UserWarning: This DataLoader will create 12 worker processes in total. Our suggested max number of worker in current system is 4, which is smaller than what this DataLoader is going to create. Please be aware that excessive worker creation might get DataLoader running slow or even freeze, lower the worker number to avoid potential slowness/freeze if necessary.\n",
      "  warnings.warn(_create_warning_msg(\n",
      "100%|██████████| 30/30 [00:15<00:00,  1.92it/s]\n"
     ]
    },
    {
     "name": "stdout",
     "output_type": "stream",
     "text": [
      "Validation--  Metrics: accuracy=0.70613, sensitivity=0.453,specificity=0.374, auroc=0.631\n",
      "Fold:1 epoch 9/10  LR=9.341703386506223e-05\n"
     ]
    },
    {
     "name": "stderr",
     "output_type": "stream",
     "text": [
      "  0%|          | 0/123 [00:00<?, ?it/s]/opt/conda/lib/python3.10/site-packages/torch/utils/data/dataloader.py:561: UserWarning: This DataLoader will create 12 worker processes in total. Our suggested max number of worker in current system is 4, which is smaller than what this DataLoader is going to create. Please be aware that excessive worker creation might get DataLoader running slow or even freeze, lower the worker number to avoid potential slowness/freeze if necessary.\n",
      "  warnings.warn(_create_warning_msg(\n",
      "100%|██████████| 123/123 [00:57<00:00,  2.14it/s]\n"
     ]
    },
    {
     "name": "stdout",
     "output_type": "stream",
     "text": [
      "Training-- Loss: 0.3644, Metric: 0.951,"
     ]
    },
    {
     "name": "stderr",
     "output_type": "stream",
     "text": [
      "  0%|          | 0/30 [00:00<?, ?it/s]/opt/conda/lib/python3.10/site-packages/torch/utils/data/dataloader.py:561: UserWarning: This DataLoader will create 12 worker processes in total. Our suggested max number of worker in current system is 4, which is smaller than what this DataLoader is going to create. Please be aware that excessive worker creation might get DataLoader running slow or even freeze, lower the worker number to avoid potential slowness/freeze if necessary.\n",
      "  warnings.warn(_create_warning_msg(\n",
      "100%|██████████| 30/30 [00:16<00:00,  1.87it/s]\n"
     ]
    },
    {
     "name": "stdout",
     "output_type": "stream",
     "text": [
      "Validation--  Metrics: accuracy=0.68622, sensitivity=0.549,specificity=0.369, auroc=0.652\n",
      "Fold:1 epoch 10/10  LR=2.436540012743118e-05\n"
     ]
    },
    {
     "name": "stderr",
     "output_type": "stream",
     "text": [
      "  0%|          | 0/123 [00:00<?, ?it/s]/opt/conda/lib/python3.10/site-packages/torch/utils/data/dataloader.py:561: UserWarning: This DataLoader will create 12 worker processes in total. Our suggested max number of worker in current system is 4, which is smaller than what this DataLoader is going to create. Please be aware that excessive worker creation might get DataLoader running slow or even freeze, lower the worker number to avoid potential slowness/freeze if necessary.\n",
      "  warnings.warn(_create_warning_msg(\n",
      "100%|██████████| 123/123 [00:57<00:00,  2.15it/s]\n"
     ]
    },
    {
     "name": "stdout",
     "output_type": "stream",
     "text": [
      "Training-- Loss: 0.3620, Metric: 0.954,"
     ]
    },
    {
     "name": "stderr",
     "output_type": "stream",
     "text": [
      "  0%|          | 0/30 [00:00<?, ?it/s]/opt/conda/lib/python3.10/site-packages/torch/utils/data/dataloader.py:561: UserWarning: This DataLoader will create 12 worker processes in total. Our suggested max number of worker in current system is 4, which is smaller than what this DataLoader is going to create. Please be aware that excessive worker creation might get DataLoader running slow or even freeze, lower the worker number to avoid potential slowness/freeze if necessary.\n",
      "  warnings.warn(_create_warning_msg(\n",
      "100%|██████████| 30/30 [00:15<00:00,  1.91it/s]\n"
     ]
    },
    {
     "name": "stdout",
     "output_type": "stream",
     "text": [
      "Validation--  Metrics: accuracy=0.69932, sensitivity=0.505,specificity=0.383, auroc=0.648\n"
     ]
    },
    {
     "data": {
      "image/png": "[encoded data removed]",
      "text/plain": [
       "<Figure size 1500x1500 with 2 Axes>"
      ]
     },
     "metadata": {},
     "output_type": "display_data"
    },
    {
     "name": "stdout",
     "output_type": "stream",
     "text": [
      "CPU times: user 7min 58s, sys: 28.8 s, total: 8min 26s\n",
      "Wall time: 12min 55s\n"
     ]
    }
   ],
   "source": [
    "%%time\n",
    "\n",
    "for fold in range(0,num_folds):\n",
    "    if cv_train == False:\n",
    "        if fold != 1: \n",
    "            continue\n",
    "    model = build_model()\n",
    "    model.cuda()\n",
    "    \n",
    "    if load_weights:\n",
    "        model.load_state_dict(torch.load(MODEL_FOLDER / f\"{fold}_dict_{om_descr}_{training_phase}.pth\"))\n",
    "    \n",
    "    train_dataset, valid_dataset, sampler = prepare_datasets(df,fold)\n",
    "    \n",
    "    train_dataloader = torch.utils.data.DataLoader(dataset=train_dataset,\n",
    "                                                   batch_size=64,\n",
    "                                                   num_workers=12,\n",
    "                                                   pin_memory=True,\n",
    "                                                   shuffle=False,\n",
    "                                                   sampler=sampler)\n",
    "\n",
    "    validation_dataloader = torch.utils.data.DataLoader(dataset=valid_dataset,\n",
    "                                                       batch_size=64,\n",
    "                                                       num_workers=12,\n",
    "                                                       pin_memory=True,\n",
    "                                                       shuffle=False)\n",
    "    \n",
    "    optimizer = torch.optim.Adam(model.parameters(), lr=init_lr)\n",
    "    lr_scheduler = torch.optim.lr_scheduler.OneCycleLR(optimizer, max_lr=init_lr,\n",
    "                                                       steps_per_epoch=len(train_dataloader),epochs=num_epochs)\n",
    "    \n",
    "    epoch_loss_values = list()\n",
    "    metric_values = list()\n",
    "    \n",
    "    training_losses = list()\n",
    "    training_metrices = list()\n",
    "    \n",
    "\n",
    "    best_metric = -1\n",
    "    print(\"-\" * 10)\n",
    "    print(f\"fold {fold + 1}/{num_folds}\")    \n",
    "    \n",
    "    for epoch in range(1, num_epochs + 1):\n",
    "\n",
    "        lr_val = optimizer.param_groups[0][\"lr\"]\n",
    "        print(f\"Fold:{fold} epoch {epoch}/{num_epochs}  LR={lr_val}\")\n",
    "\n",
    "        training_loss, training_metric = trainfp32(epoch,\n",
    "                                                   train_dataloader,\n",
    "                                                   optimizer,\n",
    "                                                   loss_fn,\n",
    "                                                   lr_scheduler,\n",
    "                                                   metric_fn=f1_torch,\n",
    "                                                   model=model)\n",
    "\n",
    "        print('Training-- Loss: {:.4f}, Metric: {:.3f}'.format(\n",
    "            training_loss, training_metric),\n",
    "              end=',')\n",
    "        act, pred, _= inferfp32(validation_dataloader, model)\n",
    "        \n",
    "        accuracy_metric = accuracy_score(act,pred>0.5)\n",
    "        sensitivity_metric = recall_score(act,pred>0.1)\n",
    "        specificity_metric = precision_score(act,pred>0.1)\n",
    "        auroc_metric = roc_auc_score(act,pred)\n",
    "        \n",
    "        \n",
    "        validation_metric = log_loss(act,pred)\n",
    "\n",
    "        print(f'Validation--  Metrics: accuracy={accuracy_metric:.5f}, sensitivity={sensitivity_metric:.3f},specificity={specificity_metric:.3f}, auroc={auroc_metric:.3f}', end='\\n')\n",
    "        training_losses.append(training_loss)\n",
    "        \n",
    "        epoch_loss_values.append(validation_metric)\n",
    "        metric_values.append(auroc_metric)\n",
    "        \n",
    "        if auroc_metric > best_metric:\n",
    "            best_metric = auroc_metric\n",
    "            best_metric_epoch = epoch + 1\n",
    "            torch.save(model.state_dict(), MODEL_FOLDER / f\"{fold}_best_dict_{om_descr}_{training_phase}.pth\")\n",
    "            print(\"saved new best metric model\")        \n",
    " \n",
    "    plot_metrics(epoch_loss_values, metric_values)\n",
    "    torch.save(model.state_dict(), MODEL_FOLDER / f\"{fold}_dict_{om_descr}_{training_phase}.pth\")\n",
    "\n",
    "    model.cpu()\n",
    "    del model, optimizer, train_dataloader, validation_dataloader, lr_scheduler\n",
    "    gc.collect()\n",
    "    torch.cuda.empty_cache()\n"
   ]
  },
  {
   "cell_type": "markdown",
   "id": "b6646570",
   "metadata": {
    "papermill": {
     "duration": 0.177654,
     "end_time": "2023-11-30T23:54:25.263767",
     "exception": false,
     "start_time": "2023-11-30T23:54:25.086113",
     "status": "completed"
    },
    "tags": []
   },
   "source": [
    "### Add Tabular"
   ]
  },
  {
   "cell_type": "code",
   "execution_count": 25,
   "id": "a56164d2",
   "metadata": {
    "execution": {
     "iopub.execute_input": "2023-11-30T23:54:25.532729Z",
     "iopub.status.busy": "2023-11-30T23:54:25.532366Z",
     "iopub.status.idle": "2023-11-30T23:54:25.539673Z",
     "shell.execute_reply": "2023-11-30T23:54:25.538870Z"
    },
    "papermill": {
     "duration": 0.14462,
     "end_time": "2023-11-30T23:54:25.541588",
     "exception": false,
     "start_time": "2023-11-30T23:54:25.396968",
     "status": "completed"
    },
    "tags": []
   },
   "outputs": [],
   "source": [
    "pd.DataFrame({'train_loss':training_losses,'val_loss':epoch_loss_values,'val_auc':metric_values}).to_csv('resnet_audio_exp.csv',index=False)"
   ]
  },
  {
   "cell_type": "code",
   "execution_count": 26,
   "id": "b5d1b039",
   "metadata": {
    "execution": {
     "iopub.execute_input": "2023-11-30T23:54:25.810121Z",
     "iopub.status.busy": "2023-11-30T23:54:25.809488Z",
     "iopub.status.idle": "2023-11-30T23:54:25.827450Z",
     "shell.execute_reply": "2023-11-30T23:54:25.826449Z"
    },
    "papermill": {
     "duration": 0.154036,
     "end_time": "2023-11-30T23:54:25.829778",
     "exception": false,
     "start_time": "2023-11-30T23:54:25.675742",
     "status": "completed"
    },
    "tags": []
   },
   "outputs": [
    {
     "data": {
      "text/html": [
       "<div>\n",
       "<style scoped>\n",
       "    .dataframe tbody tr th:only-of-type {\n",
       "        vertical-align: middle;\n",
       "    }\n",
       "\n",
       "    .dataframe tbody tr th {\n",
       "        vertical-align: top;\n",
       "    }\n",
       "\n",
       "    .dataframe thead th {\n",
       "        text-align: right;\n",
       "    }\n",
       "</style>\n",
       "<table border=\"1\" class=\"dataframe\">\n",
       "  <thead>\n",
       "    <tr style=\"text-align: right;\">\n",
       "      <th></th>\n",
       "      <th>participant</th>\n",
       "      <th>filename</th>\n",
       "      <th>sound_prediction_score</th>\n",
       "      <th>tb_status</th>\n",
       "      <th>orig_id</th>\n",
       "      <th>fold</th>\n",
       "      <th>path</th>\n",
       "      <th>samples</th>\n",
       "    </tr>\n",
       "  </thead>\n",
       "  <tbody>\n",
       "    <tr>\n",
       "      <th>0</th>\n",
       "      <td>CODA_TB_0001</td>\n",
       "      <td>1645088710003-recording-1.wav</td>\n",
       "      <td>0.990254</td>\n",
       "      <td>0</td>\n",
       "      <td>0</td>\n",
       "      <td>2.0</td>\n",
       "      <td>/kaggle/input/tb-coughs-audio/data/solicited/1...</td>\n",
       "      <td>22050</td>\n",
       "    </tr>\n",
       "    <tr>\n",
       "      <th>1</th>\n",
       "      <td>CODA_TB_0001</td>\n",
       "      <td>1645088760390-recording-1.wav</td>\n",
       "      <td>0.990272</td>\n",
       "      <td>0</td>\n",
       "      <td>1</td>\n",
       "      <td>2.0</td>\n",
       "      <td>/kaggle/input/tb-coughs-audio/data/solicited/1...</td>\n",
       "      <td>22050</td>\n",
       "    </tr>\n",
       "    <tr>\n",
       "      <th>2</th>\n",
       "      <td>CODA_TB_0001</td>\n",
       "      <td>1645088760830-recording-1.wav</td>\n",
       "      <td>0.990112</td>\n",
       "      <td>0</td>\n",
       "      <td>2</td>\n",
       "      <td>2.0</td>\n",
       "      <td>/kaggle/input/tb-coughs-audio/data/solicited/1...</td>\n",
       "      <td>22050</td>\n",
       "    </tr>\n",
       "    <tr>\n",
       "      <th>3</th>\n",
       "      <td>CODA_TB_0001</td>\n",
       "      <td>1645088710843-recording-1.wav</td>\n",
       "      <td>0.990152</td>\n",
       "      <td>0</td>\n",
       "      <td>3</td>\n",
       "      <td>2.0</td>\n",
       "      <td>/kaggle/input/tb-coughs-audio/data/solicited/1...</td>\n",
       "      <td>22050</td>\n",
       "    </tr>\n",
       "    <tr>\n",
       "      <th>4</th>\n",
       "      <td>CODA_TB_0001</td>\n",
       "      <td>1645088759950-recording-1.wav</td>\n",
       "      <td>0.990039</td>\n",
       "      <td>0</td>\n",
       "      <td>4</td>\n",
       "      <td>2.0</td>\n",
       "      <td>/kaggle/input/tb-coughs-audio/data/solicited/1...</td>\n",
       "      <td>22050</td>\n",
       "    </tr>\n",
       "    <tr>\n",
       "      <th>...</th>\n",
       "      <td>...</td>\n",
       "      <td>...</td>\n",
       "      <td>...</td>\n",
       "      <td>...</td>\n",
       "      <td>...</td>\n",
       "      <td>...</td>\n",
       "      <td>...</td>\n",
       "      <td>...</td>\n",
       "    </tr>\n",
       "    <tr>\n",
       "      <th>9767</th>\n",
       "      <td>CODA_TB_1107</td>\n",
       "      <td>1658214018804-recording-1.wav</td>\n",
       "      <td>0.941761</td>\n",
       "      <td>0</td>\n",
       "      <td>9767</td>\n",
       "      <td>0.0</td>\n",
       "      <td>/kaggle/input/tb-coughs-audio/data/solicited/1...</td>\n",
       "      <td>22050</td>\n",
       "    </tr>\n",
       "    <tr>\n",
       "      <th>9768</th>\n",
       "      <td>CODA_TB_1107</td>\n",
       "      <td>1658213992939-recording-1.wav</td>\n",
       "      <td>0.904569</td>\n",
       "      <td>0</td>\n",
       "      <td>9768</td>\n",
       "      <td>0.0</td>\n",
       "      <td>/kaggle/input/tb-coughs-audio/data/solicited/1...</td>\n",
       "      <td>22050</td>\n",
       "    </tr>\n",
       "    <tr>\n",
       "      <th>9769</th>\n",
       "      <td>CODA_TB_1107</td>\n",
       "      <td>1658213992139-recording-1.wav</td>\n",
       "      <td>0.934713</td>\n",
       "      <td>0</td>\n",
       "      <td>9769</td>\n",
       "      <td>0.0</td>\n",
       "      <td>/kaggle/input/tb-coughs-audio/data/solicited/1...</td>\n",
       "      <td>22050</td>\n",
       "    </tr>\n",
       "    <tr>\n",
       "      <th>9770</th>\n",
       "      <td>CODA_TB_1107</td>\n",
       "      <td>1658213940569-recording-1.wav</td>\n",
       "      <td>0.912813</td>\n",
       "      <td>0</td>\n",
       "      <td>9770</td>\n",
       "      <td>0.0</td>\n",
       "      <td>/kaggle/input/tb-coughs-audio/data/solicited/1...</td>\n",
       "      <td>22050</td>\n",
       "    </tr>\n",
       "    <tr>\n",
       "      <th>9771</th>\n",
       "      <td>CODA_TB_1107</td>\n",
       "      <td>1658213974948-recording-1.wav</td>\n",
       "      <td>0.939352</td>\n",
       "      <td>0</td>\n",
       "      <td>9771</td>\n",
       "      <td>0.0</td>\n",
       "      <td>/kaggle/input/tb-coughs-audio/data/solicited/1...</td>\n",
       "      <td>22050</td>\n",
       "    </tr>\n",
       "  </tbody>\n",
       "</table>\n",
       "<p>9772 rows × 8 columns</p>\n",
       "</div>"
      ],
      "text/plain": [
       "       participant                       filename  sound_prediction_score  \\\n",
       "0     CODA_TB_0001  1645088710003-recording-1.wav                0.990254   \n",
       "1     CODA_TB_0001  1645088760390-recording-1.wav                0.990272   \n",
       "2     CODA_TB_0001  1645088760830-recording-1.wav                0.990112   \n",
       "3     CODA_TB_0001  1645088710843-recording-1.wav                0.990152   \n",
       "4     CODA_TB_0001  1645088759950-recording-1.wav                0.990039   \n",
       "...            ...                            ...                     ...   \n",
       "9767  CODA_TB_1107  1658214018804-recording-1.wav                0.941761   \n",
       "9768  CODA_TB_1107  1658213992939-recording-1.wav                0.904569   \n",
       "9769  CODA_TB_1107  1658213992139-recording-1.wav                0.934713   \n",
       "9770  CODA_TB_1107  1658213940569-recording-1.wav                0.912813   \n",
       "9771  CODA_TB_1107  1658213974948-recording-1.wav                0.939352   \n",
       "\n",
       "      tb_status  orig_id  fold  \\\n",
       "0             0        0   2.0   \n",
       "1             0        1   2.0   \n",
       "2             0        2   2.0   \n",
       "3             0        3   2.0   \n",
       "4             0        4   2.0   \n",
       "...         ...      ...   ...   \n",
       "9767          0     9767   0.0   \n",
       "9768          0     9768   0.0   \n",
       "9769          0     9769   0.0   \n",
       "9770          0     9770   0.0   \n",
       "9771          0     9771   0.0   \n",
       "\n",
       "                                                   path  samples  \n",
       "0     /kaggle/input/tb-coughs-audio/data/solicited/1...    22050  \n",
       "1     /kaggle/input/tb-coughs-audio/data/solicited/1...    22050  \n",
       "2     /kaggle/input/tb-coughs-audio/data/solicited/1...    22050  \n",
       "3     /kaggle/input/tb-coughs-audio/data/solicited/1...    22050  \n",
       "4     /kaggle/input/tb-coughs-audio/data/solicited/1...    22050  \n",
       "...                                                 ...      ...  \n",
       "9767  /kaggle/input/tb-coughs-audio/data/solicited/1...    22050  \n",
       "9768  /kaggle/input/tb-coughs-audio/data/solicited/1...    22050  \n",
       "9769  /kaggle/input/tb-coughs-audio/data/solicited/1...    22050  \n",
       "9770  /kaggle/input/tb-coughs-audio/data/solicited/1...    22050  \n",
       "9771  /kaggle/input/tb-coughs-audio/data/solicited/1...    22050  \n",
       "\n",
       "[9772 rows x 8 columns]"
      ]
     },
     "execution_count": 26,
     "metadata": {},
     "output_type": "execute_result"
    }
   ],
   "source": [
    "df"
   ]
  },
  {
   "cell_type": "code",
   "execution_count": 27,
   "id": "a6552561",
   "metadata": {
    "execution": {
     "iopub.execute_input": "2023-11-30T23:54:26.103808Z",
     "iopub.status.busy": "2023-11-30T23:54:26.103493Z",
     "iopub.status.idle": "2023-11-30T23:54:26.108352Z",
     "shell.execute_reply": "2023-11-30T23:54:26.107532Z"
    },
    "papermill": {
     "duration": 0.142958,
     "end_time": "2023-11-30T23:54:26.110216",
     "exception": false,
     "start_time": "2023-11-30T23:54:25.967258",
     "status": "completed"
    },
    "tags": []
   },
   "outputs": [],
   "source": [
    "def convert(s):\n",
    "    lu = {'Male': 1, 'Female':0, 'Yes':1, 'No':0}\n",
    "    s = s.apply(lambda x:lu[x])\n",
    "    return(s)"
   ]
  },
  {
   "cell_type": "code",
   "execution_count": 28,
   "id": "5341c83a",
   "metadata": {
    "execution": {
     "iopub.execute_input": "2023-11-30T23:54:26.377359Z",
     "iopub.status.busy": "2023-11-30T23:54:26.377072Z",
     "iopub.status.idle": "2023-11-30T23:54:26.398726Z",
     "shell.execute_reply": "2023-11-30T23:54:26.398060Z"
    },
    "papermill": {
     "duration": 0.157827,
     "end_time": "2023-11-30T23:54:26.400735",
     "exception": false,
     "start_time": "2023-11-30T23:54:26.242908",
     "status": "completed"
    },
    "tags": []
   },
   "outputs": [],
   "source": [
    "tab_df = pd.read_csv('/kaggle/input/tb-tab-data/CODA_TB_Clinical_Meta_Info.csv')\n",
    "tab_cols = ['sex', 'age', 'height', 'weight', 'reported_cough_dur',\n",
    "       'hemoptysis', 'heart_rate', 'temperature', 'weight_loss', 'smoke_lweek',\n",
    "       'fever', 'night_sweats']\n",
    "\n",
    "cat_cols = ['sex','hemoptysis', 'weight_loss', 'smoke_lweek','fever', 'night_sweats']\n",
    "\n",
    "data_df = pd.merge(df, tab_df[['participant']+tab_cols], on = 'participant', how = 'inner')"
   ]
  },
  {
   "cell_type": "code",
   "execution_count": 29,
   "id": "83b22372",
   "metadata": {
    "execution": {
     "iopub.execute_input": "2023-11-30T23:54:26.669925Z",
     "iopub.status.busy": "2023-11-30T23:54:26.669587Z",
     "iopub.status.idle": "2023-11-30T23:54:26.737482Z",
     "shell.execute_reply": "2023-11-30T23:54:26.736594Z"
    },
    "papermill": {
     "duration": 0.204536,
     "end_time": "2023-11-30T23:54:26.739434",
     "exception": false,
     "start_time": "2023-11-30T23:54:26.534898",
     "status": "completed"
    },
    "tags": []
   },
   "outputs": [
    {
     "data": {
      "text/html": [
       "<div>\n",
       "<style scoped>\n",
       "    .dataframe tbody tr th:only-of-type {\n",
       "        vertical-align: middle;\n",
       "    }\n",
       "\n",
       "    .dataframe tbody tr th {\n",
       "        vertical-align: top;\n",
       "    }\n",
       "\n",
       "    .dataframe thead th {\n",
       "        text-align: right;\n",
       "    }\n",
       "</style>\n",
       "<table border=\"1\" class=\"dataframe\">\n",
       "  <thead>\n",
       "    <tr style=\"text-align: right;\">\n",
       "      <th></th>\n",
       "      <th>participant</th>\n",
       "      <th>filename</th>\n",
       "      <th>sound_prediction_score</th>\n",
       "      <th>tb_status</th>\n",
       "      <th>orig_id</th>\n",
       "      <th>fold</th>\n",
       "      <th>path</th>\n",
       "      <th>samples</th>\n",
       "      <th>sex</th>\n",
       "      <th>age</th>\n",
       "      <th>height</th>\n",
       "      <th>weight</th>\n",
       "      <th>reported_cough_dur</th>\n",
       "      <th>hemoptysis</th>\n",
       "      <th>heart_rate</th>\n",
       "      <th>temperature</th>\n",
       "      <th>weight_loss</th>\n",
       "      <th>smoke_lweek</th>\n",
       "      <th>fever</th>\n",
       "      <th>night_sweats</th>\n",
       "    </tr>\n",
       "  </thead>\n",
       "  <tbody>\n",
       "    <tr>\n",
       "      <th>0</th>\n",
       "      <td>CODA_TB_0001</td>\n",
       "      <td>1645088710003-recording-1.wav</td>\n",
       "      <td>0.990254</td>\n",
       "      <td>0</td>\n",
       "      <td>0</td>\n",
       "      <td>2.0</td>\n",
       "      <td>/kaggle/input/tb-coughs-audio/data/solicited/1...</td>\n",
       "      <td>22050</td>\n",
       "      <td>1</td>\n",
       "      <td>27</td>\n",
       "      <td>173.3</td>\n",
       "      <td>63.0</td>\n",
       "      <td>30</td>\n",
       "      <td>0</td>\n",
       "      <td>99</td>\n",
       "      <td>37.2</td>\n",
       "      <td>1</td>\n",
       "      <td>0</td>\n",
       "      <td>1</td>\n",
       "      <td>1</td>\n",
       "    </tr>\n",
       "    <tr>\n",
       "      <th>1</th>\n",
       "      <td>CODA_TB_0001</td>\n",
       "      <td>1645088760390-recording-1.wav</td>\n",
       "      <td>0.990272</td>\n",
       "      <td>0</td>\n",
       "      <td>1</td>\n",
       "      <td>2.0</td>\n",
       "      <td>/kaggle/input/tb-coughs-audio/data/solicited/1...</td>\n",
       "      <td>22050</td>\n",
       "      <td>1</td>\n",
       "      <td>27</td>\n",
       "      <td>173.3</td>\n",
       "      <td>63.0</td>\n",
       "      <td>30</td>\n",
       "      <td>0</td>\n",
       "      <td>99</td>\n",
       "      <td>37.2</td>\n",
       "      <td>1</td>\n",
       "      <td>0</td>\n",
       "      <td>1</td>\n",
       "      <td>1</td>\n",
       "    </tr>\n",
       "    <tr>\n",
       "      <th>2</th>\n",
       "      <td>CODA_TB_0001</td>\n",
       "      <td>1645088760830-recording-1.wav</td>\n",
       "      <td>0.990112</td>\n",
       "      <td>0</td>\n",
       "      <td>2</td>\n",
       "      <td>2.0</td>\n",
       "      <td>/kaggle/input/tb-coughs-audio/data/solicited/1...</td>\n",
       "      <td>22050</td>\n",
       "      <td>1</td>\n",
       "      <td>27</td>\n",
       "      <td>173.3</td>\n",
       "      <td>63.0</td>\n",
       "      <td>30</td>\n",
       "      <td>0</td>\n",
       "      <td>99</td>\n",
       "      <td>37.2</td>\n",
       "      <td>1</td>\n",
       "      <td>0</td>\n",
       "      <td>1</td>\n",
       "      <td>1</td>\n",
       "    </tr>\n",
       "    <tr>\n",
       "      <th>3</th>\n",
       "      <td>CODA_TB_0001</td>\n",
       "      <td>1645088710843-recording-1.wav</td>\n",
       "      <td>0.990152</td>\n",
       "      <td>0</td>\n",
       "      <td>3</td>\n",
       "      <td>2.0</td>\n",
       "      <td>/kaggle/input/tb-coughs-audio/data/solicited/1...</td>\n",
       "      <td>22050</td>\n",
       "      <td>1</td>\n",
       "      <td>27</td>\n",
       "      <td>173.3</td>\n",
       "      <td>63.0</td>\n",
       "      <td>30</td>\n",
       "      <td>0</td>\n",
       "      <td>99</td>\n",
       "      <td>37.2</td>\n",
       "      <td>1</td>\n",
       "      <td>0</td>\n",
       "      <td>1</td>\n",
       "      <td>1</td>\n",
       "    </tr>\n",
       "    <tr>\n",
       "      <th>4</th>\n",
       "      <td>CODA_TB_0001</td>\n",
       "      <td>1645088759950-recording-1.wav</td>\n",
       "      <td>0.990039</td>\n",
       "      <td>0</td>\n",
       "      <td>4</td>\n",
       "      <td>2.0</td>\n",
       "      <td>/kaggle/input/tb-coughs-audio/data/solicited/1...</td>\n",
       "      <td>22050</td>\n",
       "      <td>1</td>\n",
       "      <td>27</td>\n",
       "      <td>173.3</td>\n",
       "      <td>63.0</td>\n",
       "      <td>30</td>\n",
       "      <td>0</td>\n",
       "      <td>99</td>\n",
       "      <td>37.2</td>\n",
       "      <td>1</td>\n",
       "      <td>0</td>\n",
       "      <td>1</td>\n",
       "      <td>1</td>\n",
       "    </tr>\n",
       "    <tr>\n",
       "      <th>...</th>\n",
       "      <td>...</td>\n",
       "      <td>...</td>\n",
       "      <td>...</td>\n",
       "      <td>...</td>\n",
       "      <td>...</td>\n",
       "      <td>...</td>\n",
       "      <td>...</td>\n",
       "      <td>...</td>\n",
       "      <td>...</td>\n",
       "      <td>...</td>\n",
       "      <td>...</td>\n",
       "      <td>...</td>\n",
       "      <td>...</td>\n",
       "      <td>...</td>\n",
       "      <td>...</td>\n",
       "      <td>...</td>\n",
       "      <td>...</td>\n",
       "      <td>...</td>\n",
       "      <td>...</td>\n",
       "      <td>...</td>\n",
       "    </tr>\n",
       "    <tr>\n",
       "      <th>9767</th>\n",
       "      <td>CODA_TB_1107</td>\n",
       "      <td>1658214018804-recording-1.wav</td>\n",
       "      <td>0.941761</td>\n",
       "      <td>0</td>\n",
       "      <td>9767</td>\n",
       "      <td>0.0</td>\n",
       "      <td>/kaggle/input/tb-coughs-audio/data/solicited/1...</td>\n",
       "      <td>22050</td>\n",
       "      <td>0</td>\n",
       "      <td>50</td>\n",
       "      <td>174.0</td>\n",
       "      <td>87.3</td>\n",
       "      <td>30</td>\n",
       "      <td>0</td>\n",
       "      <td>70</td>\n",
       "      <td>37.0</td>\n",
       "      <td>0</td>\n",
       "      <td>0</td>\n",
       "      <td>1</td>\n",
       "      <td>0</td>\n",
       "    </tr>\n",
       "    <tr>\n",
       "      <th>9768</th>\n",
       "      <td>CODA_TB_1107</td>\n",
       "      <td>1658213992939-recording-1.wav</td>\n",
       "      <td>0.904569</td>\n",
       "      <td>0</td>\n",
       "      <td>9768</td>\n",
       "      <td>0.0</td>\n",
       "      <td>/kaggle/input/tb-coughs-audio/data/solicited/1...</td>\n",
       "      <td>22050</td>\n",
       "      <td>0</td>\n",
       "      <td>50</td>\n",
       "      <td>174.0</td>\n",
       "      <td>87.3</td>\n",
       "      <td>30</td>\n",
       "      <td>0</td>\n",
       "      <td>70</td>\n",
       "      <td>37.0</td>\n",
       "      <td>0</td>\n",
       "      <td>0</td>\n",
       "      <td>1</td>\n",
       "      <td>0</td>\n",
       "    </tr>\n",
       "    <tr>\n",
       "      <th>9769</th>\n",
       "      <td>CODA_TB_1107</td>\n",
       "      <td>1658213992139-recording-1.wav</td>\n",
       "      <td>0.934713</td>\n",
       "      <td>0</td>\n",
       "      <td>9769</td>\n",
       "      <td>0.0</td>\n",
       "      <td>/kaggle/input/tb-coughs-audio/data/solicited/1...</td>\n",
       "      <td>22050</td>\n",
       "      <td>0</td>\n",
       "      <td>50</td>\n",
       "      <td>174.0</td>\n",
       "      <td>87.3</td>\n",
       "      <td>30</td>\n",
       "      <td>0</td>\n",
       "      <td>70</td>\n",
       "      <td>37.0</td>\n",
       "      <td>0</td>\n",
       "      <td>0</td>\n",
       "      <td>1</td>\n",
       "      <td>0</td>\n",
       "    </tr>\n",
       "    <tr>\n",
       "      <th>9770</th>\n",
       "      <td>CODA_TB_1107</td>\n",
       "      <td>1658213940569-recording-1.wav</td>\n",
       "      <td>0.912813</td>\n",
       "      <td>0</td>\n",
       "      <td>9770</td>\n",
       "      <td>0.0</td>\n",
       "      <td>/kaggle/input/tb-coughs-audio/data/solicited/1...</td>\n",
       "      <td>22050</td>\n",
       "      <td>0</td>\n",
       "      <td>50</td>\n",
       "      <td>174.0</td>\n",
       "      <td>87.3</td>\n",
       "      <td>30</td>\n",
       "      <td>0</td>\n",
       "      <td>70</td>\n",
       "      <td>37.0</td>\n",
       "      <td>0</td>\n",
       "      <td>0</td>\n",
       "      <td>1</td>\n",
       "      <td>0</td>\n",
       "    </tr>\n",
       "    <tr>\n",
       "      <th>9771</th>\n",
       "      <td>CODA_TB_1107</td>\n",
       "      <td>1658213974948-recording-1.wav</td>\n",
       "      <td>0.939352</td>\n",
       "      <td>0</td>\n",
       "      <td>9771</td>\n",
       "      <td>0.0</td>\n",
       "      <td>/kaggle/input/tb-coughs-audio/data/solicited/1...</td>\n",
       "      <td>22050</td>\n",
       "      <td>0</td>\n",
       "      <td>50</td>\n",
       "      <td>174.0</td>\n",
       "      <td>87.3</td>\n",
       "      <td>30</td>\n",
       "      <td>0</td>\n",
       "      <td>70</td>\n",
       "      <td>37.0</td>\n",
       "      <td>0</td>\n",
       "      <td>0</td>\n",
       "      <td>1</td>\n",
       "      <td>0</td>\n",
       "    </tr>\n",
       "  </tbody>\n",
       "</table>\n",
       "<p>9772 rows × 20 columns</p>\n",
       "</div>"
      ],
      "text/plain": [
       "       participant                       filename  sound_prediction_score  \\\n",
       "0     CODA_TB_0001  1645088710003-recording-1.wav                0.990254   \n",
       "1     CODA_TB_0001  1645088760390-recording-1.wav                0.990272   \n",
       "2     CODA_TB_0001  1645088760830-recording-1.wav                0.990112   \n",
       "3     CODA_TB_0001  1645088710843-recording-1.wav                0.990152   \n",
       "4     CODA_TB_0001  1645088759950-recording-1.wav                0.990039   \n",
       "...            ...                            ...                     ...   \n",
       "9767  CODA_TB_1107  1658214018804-recording-1.wav                0.941761   \n",
       "9768  CODA_TB_1107  1658213992939-recording-1.wav                0.904569   \n",
       "9769  CODA_TB_1107  1658213992139-recording-1.wav                0.934713   \n",
       "9770  CODA_TB_1107  1658213940569-recording-1.wav                0.912813   \n",
       "9771  CODA_TB_1107  1658213974948-recording-1.wav                0.939352   \n",
       "\n",
       "      tb_status  orig_id  fold  \\\n",
       "0             0        0   2.0   \n",
       "1             0        1   2.0   \n",
       "2             0        2   2.0   \n",
       "3             0        3   2.0   \n",
       "4             0        4   2.0   \n",
       "...         ...      ...   ...   \n",
       "9767          0     9767   0.0   \n",
       "9768          0     9768   0.0   \n",
       "9769          0     9769   0.0   \n",
       "9770          0     9770   0.0   \n",
       "9771          0     9771   0.0   \n",
       "\n",
       "                                                   path  samples  sex  age  \\\n",
       "0     /kaggle/input/tb-coughs-audio/data/solicited/1...    22050    1   27   \n",
       "1     /kaggle/input/tb-coughs-audio/data/solicited/1...    22050    1   27   \n",
       "2     /kaggle/input/tb-coughs-audio/data/solicited/1...    22050    1   27   \n",
       "3     /kaggle/input/tb-coughs-audio/data/solicited/1...    22050    1   27   \n",
       "4     /kaggle/input/tb-coughs-audio/data/solicited/1...    22050    1   27   \n",
       "...                                                 ...      ...  ...  ...   \n",
       "9767  /kaggle/input/tb-coughs-audio/data/solicited/1...    22050    0   50   \n",
       "9768  /kaggle/input/tb-coughs-audio/data/solicited/1...    22050    0   50   \n",
       "9769  /kaggle/input/tb-coughs-audio/data/solicited/1...    22050    0   50   \n",
       "9770  /kaggle/input/tb-coughs-audio/data/solicited/1...    22050    0   50   \n",
       "9771  /kaggle/input/tb-coughs-audio/data/solicited/1...    22050    0   50   \n",
       "\n",
       "      height  weight  reported_cough_dur  hemoptysis  heart_rate  temperature  \\\n",
       "0      173.3    63.0                  30           0          99         37.2   \n",
       "1      173.3    63.0                  30           0          99         37.2   \n",
       "2      173.3    63.0                  30           0          99         37.2   \n",
       "3      173.3    63.0                  30           0          99         37.2   \n",
       "4      173.3    63.0                  30           0          99         37.2   \n",
       "...      ...     ...                 ...         ...         ...          ...   \n",
       "9767   174.0    87.3                  30           0          70         37.0   \n",
       "9768   174.0    87.3                  30           0          70         37.0   \n",
       "9769   174.0    87.3                  30           0          70         37.0   \n",
       "9770   174.0    87.3                  30           0          70         37.0   \n",
       "9771   174.0    87.3                  30           0          70         37.0   \n",
       "\n",
       "      weight_loss  smoke_lweek  fever  night_sweats  \n",
       "0               1            0      1             1  \n",
       "1               1            0      1             1  \n",
       "2               1            0      1             1  \n",
       "3               1            0      1             1  \n",
       "4               1            0      1             1  \n",
       "...           ...          ...    ...           ...  \n",
       "9767            0            0      1             0  \n",
       "9768            0            0      1             0  \n",
       "9769            0            0      1             0  \n",
       "9770            0            0      1             0  \n",
       "9771            0            0      1             0  \n",
       "\n",
       "[9772 rows x 20 columns]"
      ]
     },
     "execution_count": 29,
     "metadata": {},
     "output_type": "execute_result"
    }
   ],
   "source": [
    "df = data_df.apply(lambda x: convert(x) if x.name in cat_cols else x)\n",
    "df"
   ]
  },
  {
   "cell_type": "code",
   "execution_count": 30,
   "id": "a78b7d72",
   "metadata": {
    "execution": {
     "iopub.execute_input": "2023-11-30T23:54:27.009449Z",
     "iopub.status.busy": "2023-11-30T23:54:27.008809Z",
     "iopub.status.idle": "2023-11-30T23:54:27.023200Z",
     "shell.execute_reply": "2023-11-30T23:54:27.022374Z"
    },
    "papermill": {
     "duration": 0.151528,
     "end_time": "2023-11-30T23:54:27.025115",
     "exception": false,
     "start_time": "2023-11-30T23:54:26.873587",
     "status": "completed"
    },
    "tags": []
   },
   "outputs": [],
   "source": [
    "#Librosa version\n",
    "class Dataset_from_df(torch.utils.data.Dataset):\n",
    "    def __init__(self, file_df, path, crop_length=22050):\n",
    "        self.file_df = file_df\n",
    "        self.path = path\n",
    "        self.crop_length = crop_length\n",
    "        \n",
    "        self.tab_cols = ['sex', 'age', 'height', 'weight', 'reported_cough_dur',\n",
    "                         'hemoptysis', 'heart_rate', 'temperature', 'weight_loss', 'smoke_lweek',\n",
    "                         'fever', 'night_sweats']\n",
    "        \n",
    "\n",
    "    def __len__(self):\n",
    "        return len(self.file_df)\n",
    "\n",
    "    def __getitem__(self, index):\n",
    "        def _randint(a, b):\n",
    "            return torch.randint(a, b, (1, )).item()\n",
    "        \n",
    "        #meta = torchaudio.info(self.path + \"/\" + df.iloc[index]['subpath'])\n",
    "        target = self.file_df.iloc[index]['tb_status']*1.0\n",
    "        length = self.file_df.iloc[index]['samples']\n",
    "        \n",
    "        # get tabular data\n",
    "        tabular = self.file_df.iloc[index][self.tab_cols].to_numpy(dtype='float32')\n",
    "        \n",
    "        p = self.path/self.file_df.iloc[index]['filename']\n",
    "        #p = self.file_df.iloc[index]['path']\n",
    "        orig_id = self.file_df.iloc[index]['orig_id']\n",
    "\n",
    "        if length == self.crop_length:\n",
    "            x, sr = librosa.load(str(p),sr=None)\n",
    "            \n",
    "        elif length < self.crop_length:\n",
    "            s, sr = librosa.load(str(p),sr=None)\n",
    "\n",
    "            zeros_front = (_randint(0, self.crop_length - length))\n",
    "            pad_front = np.zeros(( zeros_front))\n",
    "            pad_back = np.zeros(( self.crop_length - length - zeros_front))\n",
    "            waveform = np.concatenate((pad_front, s, pad_back), 0)\n",
    "            x = waveform    \n",
    "            \n",
    "            \n",
    "            \n",
    "        else:\n",
    "            crop_start = _randint(0, int(length - self.crop_length))\n",
    "            x, sr = librosa.load(str(p),sr=None)\n",
    "            x = x[crop_start:self.crop_length+crop_start]\n",
    "            \n",
    "        # transform sound sample to spectrum\n",
    "        x = np.abs(librosa.stft(x,n_fft = 1024,hop_length=64,window ='hanning'))\n",
    "        x = librosa.amplitude_to_db(x).astype(np.float32)\n",
    "        x = (x-np.min(x))/(np.max(x)-np.min(x))\n",
    "        x = np.flip(x[1:349,:],0).copy() # approx 50Hz to 15000Hz\n",
    "  \n",
    "        \n",
    "        x=torch.from_numpy(x).unsqueeze(0)\n",
    "        #print(x.shape)\n",
    "        \n",
    "        \n",
    "\n",
    "        return {'x':x, 'sr':sr, 'tabular':tabular,'target':torch.FloatTensor([target, 1.0-target]),'orig_id':orig_id}\n",
    "    "
   ]
  },
  {
   "cell_type": "code",
   "execution_count": 31,
   "id": "bfabd2dc",
   "metadata": {
    "execution": {
     "iopub.execute_input": "2023-11-30T23:54:27.293458Z",
     "iopub.status.busy": "2023-11-30T23:54:27.293194Z",
     "iopub.status.idle": "2023-11-30T23:54:27.299928Z",
     "shell.execute_reply": "2023-11-30T23:54:27.299118Z"
    },
    "papermill": {
     "duration": 0.142869,
     "end_time": "2023-11-30T23:54:27.301804",
     "exception": false,
     "start_time": "2023-11-30T23:54:27.158935",
     "status": "completed"
    },
    "tags": []
   },
   "outputs": [],
   "source": [
    "def prepare_datasets(df, fold):\n",
    "    train_df = df.query(\"fold!=@fold\").reset_index(drop=True)\n",
    "    valid_df = df.query(\"fold==@fold\").reset_index(drop=True)\n",
    "    \n",
    "    #balance the data set\n",
    "    df_counts = pd.DataFrame(train_df.groupby(['tb_status']).size().reset_index()).rename(columns={0:\"counts\"})\n",
    "    df_counts['weights'] = df_counts['counts'].max() / df_counts['counts']\n",
    "    df_balanced = pd.merge(train_df, df_counts[['tb_status','weights']], on='tb_status')\n",
    "    sampler = torch.utils.data.WeightedRandomSampler(df_balanced['weights'].values, len(df_balanced))\n",
    "\n",
    "    train_dataset = Dataset_from_df(train_df,TRAIN_FOLDER)\n",
    "    valid_dataset = Dataset_from_df(valid_df,TRAIN_FOLDER)\n",
    "    \n",
    "    return train_dataset, valid_dataset, sampler"
   ]
  },
  {
   "cell_type": "code",
   "execution_count": 32,
   "id": "0f56752d",
   "metadata": {
    "execution": {
     "iopub.execute_input": "2023-11-30T23:54:27.570409Z",
     "iopub.status.busy": "2023-11-30T23:54:27.570135Z",
     "iopub.status.idle": "2023-11-30T23:54:27.575681Z",
     "shell.execute_reply": "2023-11-30T23:54:27.574870Z"
    },
    "papermill": {
     "duration": 0.142791,
     "end_time": "2023-11-30T23:54:27.577593",
     "exception": false,
     "start_time": "2023-11-30T23:54:27.434802",
     "status": "completed"
    },
    "tags": []
   },
   "outputs": [],
   "source": [
    "class ChannelExpand(torch.nn.Module):\n",
    "    def __init__(self, channels):\n",
    "        super(ChannelExpand, self).__init__()\n",
    "        self.channels = channels\n",
    "    def forward(self,x):\n",
    "        #print(x.shape)\n",
    "        x = x.expand(-1,3,*x.shape[2:])\n",
    "        \n",
    "        return x"
   ]
  },
  {
   "cell_type": "code",
   "execution_count": 33,
   "id": "6af324f2",
   "metadata": {
    "execution": {
     "iopub.execute_input": "2023-11-30T23:54:27.848347Z",
     "iopub.status.busy": "2023-11-30T23:54:27.847697Z",
     "iopub.status.idle": "2023-11-30T23:54:28.333215Z",
     "shell.execute_reply": "2023-11-30T23:54:28.332216Z"
    },
    "papermill": {
     "duration": 0.62329,
     "end_time": "2023-11-30T23:54:28.335606",
     "exception": false,
     "start_time": "2023-11-30T23:54:27.712316",
     "status": "completed"
    },
    "tags": []
   },
   "outputs": [],
   "source": [
    "model = timm.create_model('resnet34', pretrained=True,drop_rate = .50, num_classes=2)\n",
    "class MultiModel(torch.nn.Module):\n",
    "    def __init__(self):\n",
    "        super(MultiModel, self).__init__()\n",
    "        self.cnn = timm.create_model('resnet34', pretrained=True,drop_rate = .50, num_classes=2)\n",
    "        self.cnn.fc = torch.nn.Linear(\n",
    "            self.cnn.fc.in_features, 20)  #modify last layer to 20 features (from 512)\n",
    "        \n",
    "        self.fc1 = torch.nn.Linear(20 + 12, 64) # dense layer \n",
    "        self.fc2 = torch.nn.Linear(64, 2) # output layer\n",
    "        \n",
    "        self.to3_channel = ChannelExpand(3)\n",
    "        \n",
    "    def forward(self, image, data):\n",
    "        image = self.to3_channel(image)\n",
    "        x1 = self.cnn(image)\n",
    "        x2 = data\n",
    "        \n",
    "        x = torch.cat((x1, x2), dim=1)\n",
    "        x = torch.nn.functional.relu(self.fc1(x))\n",
    "        x = self.fc2(x)\n",
    "        return x"
   ]
  },
  {
   "cell_type": "code",
   "execution_count": 34,
   "id": "d360e762",
   "metadata": {
    "execution": {
     "iopub.execute_input": "2023-11-30T23:54:28.612770Z",
     "iopub.status.busy": "2023-11-30T23:54:28.612431Z",
     "iopub.status.idle": "2023-11-30T23:54:28.617058Z",
     "shell.execute_reply": "2023-11-30T23:54:28.616231Z"
    },
    "papermill": {
     "duration": 0.145951,
     "end_time": "2023-11-30T23:54:28.618954",
     "exception": false,
     "start_time": "2023-11-30T23:54:28.473003",
     "status": "completed"
    },
    "tags": []
   },
   "outputs": [],
   "source": [
    "om_descr = 'timm-resnet34-audio_tabular'\n",
    "\n",
    "def build_model():\n",
    "    # build a new model\n",
    "    model = MultiModel()\n",
    "\n",
    "    \n",
    "    return model"
   ]
  },
  {
   "cell_type": "code",
   "execution_count": 35,
   "id": "80447d36",
   "metadata": {
    "execution": {
     "iopub.execute_input": "2023-11-30T23:54:28.887195Z",
     "iopub.status.busy": "2023-11-30T23:54:28.886895Z",
     "iopub.status.idle": "2023-11-30T23:54:28.891712Z",
     "shell.execute_reply": "2023-11-30T23:54:28.890841Z"
    },
    "papermill": {
     "duration": 0.140738,
     "end_time": "2023-11-30T23:54:28.893720",
     "exception": false,
     "start_time": "2023-11-30T23:54:28.752982",
     "status": "completed"
    },
    "tags": []
   },
   "outputs": [],
   "source": [
    "init_lr = .0005\n",
    "num_epochs= 10\n",
    "\n",
    "loss_fn = torch.nn.CrossEntropyLoss()\n",
    "num_folds = 5\n",
    "load_weights = False\n",
    "training_phase = 1"
   ]
  },
  {
   "cell_type": "code",
   "execution_count": 36,
   "id": "d528b130",
   "metadata": {
    "execution": {
     "iopub.execute_input": "2023-11-30T23:54:29.165349Z",
     "iopub.status.busy": "2023-11-30T23:54:29.165014Z",
     "iopub.status.idle": "2023-11-30T23:54:29.179034Z",
     "shell.execute_reply": "2023-11-30T23:54:29.178322Z"
    },
    "papermill": {
     "duration": 0.152905,
     "end_time": "2023-11-30T23:54:29.181185",
     "exception": false,
     "start_time": "2023-11-30T23:54:29.028280",
     "status": "completed"
    },
    "tags": []
   },
   "outputs": [],
   "source": [
    "def trainfp32(epoch, train_dataloader, optimizer, loss_fn, lr_scheduler,\n",
    "              metric_fn, model):\n",
    "\n",
    "\n",
    "\n",
    "    model.train()\n",
    "\n",
    "    training_loss = 0\n",
    "    metric = 0\n",
    "\n",
    "    m = torch.nn.Softmax(dim=1)\n",
    "    pbar = tqdm(total=len(train_dataloader))\n",
    "\n",
    "    for batch in train_dataloader:\n",
    "\n",
    "        optimizer.zero_grad()\n",
    "\n",
    "\n",
    "        x = batch['x']\n",
    "        d = batch['tabular']\n",
    "        sr = batch['sr']\n",
    "\n",
    "        y = batch['target']\n",
    "\n",
    "        x = x.cuda(non_blocking=True)\n",
    "        d = d.cuda(non_blocking=True)\n",
    "        y = y.cuda(non_blocking=True)\n",
    "\n",
    "        output = model(x,d)\n",
    "        \n",
    "        loss = loss_fn(m(output), y)\n",
    "\n",
    "        loss.backward()\n",
    "\n",
    "        optimizer.step()\n",
    "        \n",
    "\n",
    "        lr_scheduler.step()\n",
    "\n",
    "        training_loss += loss.data.item() * x.size(0)\n",
    "\n",
    "        metric += metric_fn(y, output) * x.size(0)\n",
    "\n",
    "        pbar.update(1)\n",
    "    pbar.close()\n",
    "    training_loss /= len(train_dataloader.dataset)\n",
    "    metric /= len(train_dataloader.dataset)\n",
    "    return training_loss, metric\n",
    "\n",
    "\n",
    "def inferfp32(valid_dataloader, model):\n",
    "    act = np.zeros(len(validation_dataloader.dataset))\n",
    "    pred = np.zeros(len(validation_dataloader.dataset))\n",
    "    orig_id = np.zeros(len(validation_dataloader.dataset))\n",
    "\n",
    "    m = torch.nn.Softmax(dim=1)\n",
    "    \n",
    "    model.eval()\n",
    "    pbar = tqdm(total=len(valid_dataloader))\n",
    "\n",
    "    st = 0\n",
    "    for batch in valid_dataloader:\n",
    "        x = batch['x']\n",
    "        d = batch['tabular']\n",
    "        sr = batch['sr']\n",
    "        y = batch['target']\n",
    "        x = x.cuda(non_blocking=True)\n",
    "        d = d.cuda(non_blocking=True)\n",
    "        \n",
    "        output = model(x,d)\n",
    "        \n",
    "        \n",
    "        en = st + y.shape[0]\n",
    "        act[st:en] = y[:,0].numpy()\n",
    "        pred[st:en] = m(output)[:,0].cpu().detach().numpy()\n",
    "        orig_id[st:en] = batch['orig_id']\n",
    "        st = en\n",
    "        \n",
    "        pbar.update(1)\n",
    "    pbar.close()\n",
    "    \n",
    "    \n",
    "    return act, pred, orig_id\n"
   ]
  },
  {
   "cell_type": "code",
   "execution_count": 37,
   "id": "daa1d096",
   "metadata": {
    "execution": {
     "iopub.execute_input": "2023-11-30T23:54:29.450976Z",
     "iopub.status.busy": "2023-11-30T23:54:29.450541Z",
     "iopub.status.idle": "2023-11-30T23:54:29.459951Z",
     "shell.execute_reply": "2023-11-30T23:54:29.458798Z"
    },
    "papermill": {
     "duration": 0.145163,
     "end_time": "2023-11-30T23:54:29.461949",
     "exception": false,
     "start_time": "2023-11-30T23:54:29.316786",
     "status": "completed"
    },
    "tags": []
   },
   "outputs": [
    {
     "name": "stderr",
     "output_type": "stream",
     "text": [
      "/tmp/ipykernel_26/3181424362.py:1: SettingWithCopyWarning: \n",
      "A value is trying to be set on a copy of a slice from a DataFrame\n",
      "\n",
      "See the caveats in the documentation: https://pandas.pydata.org/pandas-docs/stable/user_guide/indexing.html#returning-a-view-versus-a-copy\n",
      "  df['height'][df['height'].isna()] = round(df['height'].mean(),0) # fillna\n"
     ]
    }
   ],
   "source": [
    "df['height'][df['height'].isna()] = round(df['height'].mean(),0) # fillna"
   ]
  },
  {
   "cell_type": "code",
   "execution_count": 38,
   "id": "93186f35",
   "metadata": {
    "execution": {
     "iopub.execute_input": "2023-11-30T23:54:29.732726Z",
     "iopub.status.busy": "2023-11-30T23:54:29.732450Z",
     "iopub.status.idle": "2023-12-01T00:06:29.472414Z",
     "shell.execute_reply": "2023-12-01T00:06:29.471280Z"
    },
    "papermill": {
     "duration": 719.878494,
     "end_time": "2023-12-01T00:06:29.474648",
     "exception": false,
     "start_time": "2023-11-30T23:54:29.596154",
     "status": "completed"
    },
    "tags": []
   },
   "outputs": [
    {
     "name": "stderr",
     "output_type": "stream",
     "text": [
      "/opt/conda/lib/python3.10/site-packages/torch/utils/data/dataloader.py:561: UserWarning: This DataLoader will create 12 worker processes in total. Our suggested max number of worker in current system is 4, which is smaller than what this DataLoader is going to create. Please be aware that excessive worker creation might get DataLoader running slow or even freeze, lower the worker number to avoid potential slowness/freeze if necessary.\n",
      "  warnings.warn(_create_warning_msg(\n"
     ]
    },
    {
     "name": "stdout",
     "output_type": "stream",
     "text": [
      "----------\n",
      "fold 2/5\n",
      "Fold:1 epoch 1/10  LR=1.9999999999999998e-05\n"
     ]
    },
    {
     "name": "stderr",
     "output_type": "stream",
     "text": [
      "100%|██████████| 123/123 [00:56<00:00,  2.19it/s]\n"
     ]
    },
    {
     "name": "stdout",
     "output_type": "stream",
     "text": [
      "Training-- Loss: 0.6052, Metric: 0.705,"
     ]
    },
    {
     "name": "stderr",
     "output_type": "stream",
     "text": [
      "  0%|          | 0/30 [00:00<?, ?it/s]/opt/conda/lib/python3.10/site-packages/torch/utils/data/dataloader.py:561: UserWarning: This DataLoader will create 12 worker processes in total. Our suggested max number of worker in current system is 4, which is smaller than what this DataLoader is going to create. Please be aware that excessive worker creation might get DataLoader running slow or even freeze, lower the worker number to avoid potential slowness/freeze if necessary.\n",
      "  warnings.warn(_create_warning_msg(\n",
      "100%|██████████| 30/30 [00:14<00:00,  2.05it/s]\n"
     ]
    },
    {
     "name": "stdout",
     "output_type": "stream",
     "text": [
      "Validation--  Metrics: accuracy=0.71556, sensitivity=0.729,specificity=0.351, auroc=0.671\n",
      "saved new best metric model\n",
      "Fold:1 epoch 2/10  LR=0.00014059194137776287\n"
     ]
    },
    {
     "name": "stderr",
     "output_type": "stream",
     "text": [
      "  0%|          | 0/123 [00:00<?, ?it/s]/opt/conda/lib/python3.10/site-packages/torch/utils/data/dataloader.py:561: UserWarning: This DataLoader will create 12 worker processes in total. Our suggested max number of worker in current system is 4, which is smaller than what this DataLoader is going to create. Please be aware that excessive worker creation might get DataLoader running slow or even freeze, lower the worker number to avoid potential slowness/freeze if necessary.\n",
      "  warnings.warn(_create_warning_msg(\n",
      "100%|██████████| 123/123 [00:56<00:00,  2.18it/s]\n"
     ]
    },
    {
     "name": "stdout",
     "output_type": "stream",
     "text": [
      "Training-- Loss: 0.5378, Metric: 0.763,"
     ]
    },
    {
     "name": "stderr",
     "output_type": "stream",
     "text": [
      "  0%|          | 0/30 [00:00<?, ?it/s]/opt/conda/lib/python3.10/site-packages/torch/utils/data/dataloader.py:561: UserWarning: This DataLoader will create 12 worker processes in total. Our suggested max number of worker in current system is 4, which is smaller than what this DataLoader is going to create. Please be aware that excessive worker creation might get DataLoader running slow or even freeze, lower the worker number to avoid potential slowness/freeze if necessary.\n",
      "  warnings.warn(_create_warning_msg(\n",
      "100%|██████████| 30/30 [00:15<00:00,  1.90it/s]\n"
     ]
    },
    {
     "name": "stdout",
     "output_type": "stream",
     "text": [
      "Validation--  Metrics: accuracy=0.65375, sensitivity=0.872,specificity=0.349, auroc=0.720\n",
      "saved new best metric model\n",
      "Fold:1 epoch 3/10  LR=0.00038118096280056985\n"
     ]
    },
    {
     "name": "stderr",
     "output_type": "stream",
     "text": [
      "  0%|          | 0/123 [00:00<?, ?it/s]/opt/conda/lib/python3.10/site-packages/torch/utils/data/dataloader.py:561: UserWarning: This DataLoader will create 12 worker processes in total. Our suggested max number of worker in current system is 4, which is smaller than what this DataLoader is going to create. Please be aware that excessive worker creation might get DataLoader running slow or even freeze, lower the worker number to avoid potential slowness/freeze if necessary.\n",
      "  warnings.warn(_create_warning_msg(\n",
      "100%|██████████| 123/123 [00:56<00:00,  2.18it/s]\n"
     ]
    },
    {
     "name": "stdout",
     "output_type": "stream",
     "text": [
      "Training-- Loss: 0.4880, Metric: 0.820,"
     ]
    },
    {
     "name": "stderr",
     "output_type": "stream",
     "text": [
      "  0%|          | 0/30 [00:00<?, ?it/s]/opt/conda/lib/python3.10/site-packages/torch/utils/data/dataloader.py:561: UserWarning: This DataLoader will create 12 worker processes in total. Our suggested max number of worker in current system is 4, which is smaller than what this DataLoader is going to create. Please be aware that excessive worker creation might get DataLoader running slow or even freeze, lower the worker number to avoid potential slowness/freeze if necessary.\n",
      "  warnings.warn(_create_warning_msg(\n",
      "100%|██████████| 30/30 [00:15<00:00,  1.94it/s]\n"
     ]
    },
    {
     "name": "stdout",
     "output_type": "stream",
     "text": [
      "Validation--  Metrics: accuracy=0.76008, sensitivity=0.391,specificity=0.501, auroc=0.728\n",
      "saved new best metric model\n",
      "Fold:1 epoch 4/10  LR=0.0004999983358164054\n"
     ]
    },
    {
     "name": "stderr",
     "output_type": "stream",
     "text": [
      "  0%|          | 0/123 [00:00<?, ?it/s]/opt/conda/lib/python3.10/site-packages/torch/utils/data/dataloader.py:561: UserWarning: This DataLoader will create 12 worker processes in total. Our suggested max number of worker in current system is 4, which is smaller than what this DataLoader is going to create. Please be aware that excessive worker creation might get DataLoader running slow or even freeze, lower the worker number to avoid potential slowness/freeze if necessary.\n",
      "  warnings.warn(_create_warning_msg(\n",
      "100%|██████████| 123/123 [00:56<00:00,  2.17it/s]\n"
     ]
    },
    {
     "name": "stdout",
     "output_type": "stream",
     "text": [
      "Training-- Loss: 0.4676, Metric: 0.844,"
     ]
    },
    {
     "name": "stderr",
     "output_type": "stream",
     "text": [
      "  0%|          | 0/30 [00:00<?, ?it/s]/opt/conda/lib/python3.10/site-packages/torch/utils/data/dataloader.py:561: UserWarning: This DataLoader will create 12 worker processes in total. Our suggested max number of worker in current system is 4, which is smaller than what this DataLoader is going to create. Please be aware that excessive worker creation might get DataLoader running slow or even freeze, lower the worker number to avoid potential slowness/freeze if necessary.\n",
      "  warnings.warn(_create_warning_msg(\n",
      "100%|██████████| 30/30 [00:14<00:00,  2.05it/s]\n"
     ]
    },
    {
     "name": "stdout",
     "output_type": "stream",
     "text": [
      "Validation--  Metrics: accuracy=0.76375, sensitivity=0.358,specificity=0.564, auroc=0.710\n",
      "Fold:1 epoch 5/10  LR=0.00047484503338568636\n"
     ]
    },
    {
     "name": "stderr",
     "output_type": "stream",
     "text": [
      "  0%|          | 0/123 [00:00<?, ?it/s]/opt/conda/lib/python3.10/site-packages/torch/utils/data/dataloader.py:561: UserWarning: This DataLoader will create 12 worker processes in total. Our suggested max number of worker in current system is 4, which is smaller than what this DataLoader is going to create. Please be aware that excessive worker creation might get DataLoader running slow or even freeze, lower the worker number to avoid potential slowness/freeze if necessary.\n",
      "  warnings.warn(_create_warning_msg(\n",
      "100%|██████████| 123/123 [00:56<00:00,  2.17it/s]\n"
     ]
    },
    {
     "name": "stdout",
     "output_type": "stream",
     "text": [
      "Training-- Loss: 0.4380, Metric: 0.877,"
     ]
    },
    {
     "name": "stderr",
     "output_type": "stream",
     "text": [
      "  0%|          | 0/30 [00:00<?, ?it/s]/opt/conda/lib/python3.10/site-packages/torch/utils/data/dataloader.py:561: UserWarning: This DataLoader will create 12 worker processes in total. Our suggested max number of worker in current system is 4, which is smaller than what this DataLoader is going to create. Please be aware that excessive worker creation might get DataLoader running slow or even freeze, lower the worker number to avoid potential slowness/freeze if necessary.\n",
      "  warnings.warn(_create_warning_msg(\n",
      "100%|██████████| 30/30 [00:14<00:00,  2.02it/s]\n"
     ]
    },
    {
     "name": "stdout",
     "output_type": "stream",
     "text": [
      "Validation--  Metrics: accuracy=0.75432, sensitivity=0.445,specificity=0.503, auroc=0.719\n",
      "Fold:1 epoch 6/10  LR=0.0004051586126118258\n"
     ]
    },
    {
     "name": "stderr",
     "output_type": "stream",
     "text": [
      "  0%|          | 0/123 [00:00<?, ?it/s]/opt/conda/lib/python3.10/site-packages/torch/utils/data/dataloader.py:561: UserWarning: This DataLoader will create 12 worker processes in total. Our suggested max number of worker in current system is 4, which is smaller than what this DataLoader is going to create. Please be aware that excessive worker creation might get DataLoader running slow or even freeze, lower the worker number to avoid potential slowness/freeze if necessary.\n",
      "  warnings.warn(_create_warning_msg(\n",
      "100%|██████████| 123/123 [00:57<00:00,  2.15it/s]\n"
     ]
    },
    {
     "name": "stdout",
     "output_type": "stream",
     "text": [
      "Training-- Loss: 0.4153, Metric: 0.898,"
     ]
    },
    {
     "name": "stderr",
     "output_type": "stream",
     "text": [
      "  0%|          | 0/30 [00:00<?, ?it/s]/opt/conda/lib/python3.10/site-packages/torch/utils/data/dataloader.py:561: UserWarning: This DataLoader will create 12 worker processes in total. Our suggested max number of worker in current system is 4, which is smaller than what this DataLoader is going to create. Please be aware that excessive worker creation might get DataLoader running slow or even freeze, lower the worker number to avoid potential slowness/freeze if necessary.\n",
      "  warnings.warn(_create_warning_msg(\n",
      "100%|██████████| 30/30 [00:15<00:00,  1.95it/s]\n"
     ]
    },
    {
     "name": "stdout",
     "output_type": "stream",
     "text": [
      "Validation--  Metrics: accuracy=0.70980, sensitivity=0.644,specificity=0.424, auroc=0.729\n",
      "saved new best metric model\n",
      "Fold:1 epoch 7/10  LR=0.00030474132377695135\n"
     ]
    },
    {
     "name": "stderr",
     "output_type": "stream",
     "text": [
      "  0%|          | 0/123 [00:00<?, ?it/s]/opt/conda/lib/python3.10/site-packages/torch/utils/data/dataloader.py:561: UserWarning: This DataLoader will create 12 worker processes in total. Our suggested max number of worker in current system is 4, which is smaller than what this DataLoader is going to create. Please be aware that excessive worker creation might get DataLoader running slow or even freeze, lower the worker number to avoid potential slowness/freeze if necessary.\n",
      "  warnings.warn(_create_warning_msg(\n",
      "100%|██████████| 123/123 [00:56<00:00,  2.18it/s]\n"
     ]
    },
    {
     "name": "stdout",
     "output_type": "stream",
     "text": [
      "Training-- Loss: 0.3825, Metric: 0.932,"
     ]
    },
    {
     "name": "stderr",
     "output_type": "stream",
     "text": [
      "  0%|          | 0/30 [00:00<?, ?it/s]/opt/conda/lib/python3.10/site-packages/torch/utils/data/dataloader.py:561: UserWarning: This DataLoader will create 12 worker processes in total. Our suggested max number of worker in current system is 4, which is smaller than what this DataLoader is going to create. Please be aware that excessive worker creation might get DataLoader running slow or even freeze, lower the worker number to avoid potential slowness/freeze if necessary.\n",
      "  warnings.warn(_create_warning_msg(\n",
      "100%|██████████| 30/30 [00:15<00:00,  1.95it/s]\n"
     ]
    },
    {
     "name": "stdout",
     "output_type": "stream",
     "text": [
      "Validation--  Metrics: accuracy=0.73284, sensitivity=0.617,specificity=0.452, auroc=0.734\n",
      "saved new best metric model\n",
      "Fold:1 epoch 8/10  LR=0.0001934820424720376\n"
     ]
    },
    {
     "name": "stderr",
     "output_type": "stream",
     "text": [
      "  0%|          | 0/123 [00:00<?, ?it/s]/opt/conda/lib/python3.10/site-packages/torch/utils/data/dataloader.py:561: UserWarning: This DataLoader will create 12 worker processes in total. Our suggested max number of worker in current system is 4, which is smaller than what this DataLoader is going to create. Please be aware that excessive worker creation might get DataLoader running slow or even freeze, lower the worker number to avoid potential slowness/freeze if necessary.\n",
      "  warnings.warn(_create_warning_msg(\n",
      "100%|██████████| 123/123 [00:56<00:00,  2.17it/s]\n"
     ]
    },
    {
     "name": "stdout",
     "output_type": "stream",
     "text": [
      "Training-- Loss: 0.3717, Metric: 0.944,"
     ]
    },
    {
     "name": "stderr",
     "output_type": "stream",
     "text": [
      "  0%|          | 0/30 [00:00<?, ?it/s]/opt/conda/lib/python3.10/site-packages/torch/utils/data/dataloader.py:561: UserWarning: This DataLoader will create 12 worker processes in total. Our suggested max number of worker in current system is 4, which is smaller than what this DataLoader is going to create. Please be aware that excessive worker creation might get DataLoader running slow or even freeze, lower the worker number to avoid potential slowness/freeze if necessary.\n",
      "  warnings.warn(_create_warning_msg(\n",
      "100%|██████████| 30/30 [00:14<00:00,  2.05it/s]\n"
     ]
    },
    {
     "name": "stdout",
     "output_type": "stream",
     "text": [
      "Validation--  Metrics: accuracy=0.76166, sensitivity=0.439,specificity=0.532, auroc=0.728\n",
      "Fold:1 epoch 9/10  LR=9.341703386506223e-05\n"
     ]
    },
    {
     "name": "stderr",
     "output_type": "stream",
     "text": [
      "  0%|          | 0/123 [00:00<?, ?it/s]/opt/conda/lib/python3.10/site-packages/torch/utils/data/dataloader.py:561: UserWarning: This DataLoader will create 12 worker processes in total. Our suggested max number of worker in current system is 4, which is smaller than what this DataLoader is going to create. Please be aware that excessive worker creation might get DataLoader running slow or even freeze, lower the worker number to avoid potential slowness/freeze if necessary.\n",
      "  warnings.warn(_create_warning_msg(\n",
      "100%|██████████| 123/123 [00:56<00:00,  2.17it/s]\n"
     ]
    },
    {
     "name": "stdout",
     "output_type": "stream",
     "text": [
      "Training-- Loss: 0.3643, Metric: 0.950,"
     ]
    },
    {
     "name": "stderr",
     "output_type": "stream",
     "text": [
      "  0%|          | 0/30 [00:00<?, ?it/s]/opt/conda/lib/python3.10/site-packages/torch/utils/data/dataloader.py:561: UserWarning: This DataLoader will create 12 worker processes in total. Our suggested max number of worker in current system is 4, which is smaller than what this DataLoader is going to create. Please be aware that excessive worker creation might get DataLoader running slow or even freeze, lower the worker number to avoid potential slowness/freeze if necessary.\n",
      "  warnings.warn(_create_warning_msg(\n",
      "100%|██████████| 30/30 [00:14<00:00,  2.05it/s]\n"
     ]
    },
    {
     "name": "stdout",
     "output_type": "stream",
     "text": [
      "Validation--  Metrics: accuracy=0.75380, sensitivity=0.505,specificity=0.497, auroc=0.723\n",
      "Fold:1 epoch 10/10  LR=2.436540012743118e-05\n"
     ]
    },
    {
     "name": "stderr",
     "output_type": "stream",
     "text": [
      "  0%|          | 0/123 [00:00<?, ?it/s]/opt/conda/lib/python3.10/site-packages/torch/utils/data/dataloader.py:561: UserWarning: This DataLoader will create 12 worker processes in total. Our suggested max number of worker in current system is 4, which is smaller than what this DataLoader is going to create. Please be aware that excessive worker creation might get DataLoader running slow or even freeze, lower the worker number to avoid potential slowness/freeze if necessary.\n",
      "  warnings.warn(_create_warning_msg(\n",
      "100%|██████████| 123/123 [00:56<00:00,  2.17it/s]\n"
     ]
    },
    {
     "name": "stdout",
     "output_type": "stream",
     "text": [
      "Training-- Loss: 0.3573, Metric: 0.957,"
     ]
    },
    {
     "name": "stderr",
     "output_type": "stream",
     "text": [
      "  0%|          | 0/30 [00:00<?, ?it/s]/opt/conda/lib/python3.10/site-packages/torch/utils/data/dataloader.py:561: UserWarning: This DataLoader will create 12 worker processes in total. Our suggested max number of worker in current system is 4, which is smaller than what this DataLoader is going to create. Please be aware that excessive worker creation might get DataLoader running slow or even freeze, lower the worker number to avoid potential slowness/freeze if necessary.\n",
      "  warnings.warn(_create_warning_msg(\n",
      "100%|██████████| 30/30 [00:15<00:00,  1.96it/s]\n"
     ]
    },
    {
     "name": "stdout",
     "output_type": "stream",
     "text": [
      "Validation--  Metrics: accuracy=0.74804, sensitivity=0.520,specificity=0.484, auroc=0.723\n"
     ]
    },
    {
     "data": {
      "image/png": "[encoded data removed]",
      "text/plain": [
       "<Figure size 1500x1500 with 2 Axes>"
      ]
     },
     "metadata": {},
     "output_type": "display_data"
    },
    {
     "name": "stdout",
     "output_type": "stream",
     "text": [
      "CPU times: user 7min 42s, sys: 27 s, total: 8min 9s\n",
      "Wall time: 11min 59s\n"
     ]
    }
   ],
   "source": [
    "%%time\n",
    "\n",
    "for fold in range(0,num_folds):\n",
    "    if cv_train == False:\n",
    "        if fold != 1: \n",
    "            continue\n",
    "    model = build_model()\n",
    "    model.cuda()\n",
    "    \n",
    "    if load_weights:\n",
    "        model.load_state_dict(torch.load(MODEL_FOLDER / f\"{fold}_dict_{om_descr}_{training_phase}.pth\"))\n",
    "    \n",
    "    train_dataset, valid_dataset, sampler = prepare_datasets(df,fold)\n",
    "    \n",
    "    train_dataloader = torch.utils.data.DataLoader(dataset=train_dataset,\n",
    "                                                   batch_size=64,\n",
    "                                                   num_workers=12,\n",
    "                                                   pin_memory=True,\n",
    "                                                   shuffle=False,\n",
    "                                                   sampler=sampler)\n",
    "\n",
    "    validation_dataloader = torch.utils.data.DataLoader(dataset=valid_dataset,\n",
    "                                                       batch_size=64,\n",
    "                                                       num_workers=12,\n",
    "                                                       pin_memory=True,\n",
    "                                                       shuffle=False)\n",
    "    \n",
    "    optimizer = torch.optim.Adam(model.parameters(), lr=init_lr)\n",
    "    lr_scheduler = torch.optim.lr_scheduler.OneCycleLR(optimizer, max_lr=init_lr,\n",
    "                                                       steps_per_epoch=len(train_dataloader),epochs=num_epochs)\n",
    "    \n",
    "    epoch_loss_values = list()\n",
    "    metric_values = list()\n",
    "    \n",
    "    training_losses = list()\n",
    "    training_metrices = list()\n",
    "    \n",
    "\n",
    "    best_metric = -1\n",
    "    print(\"-\" * 10)\n",
    "    print(f\"fold {fold + 1}/{num_folds}\")    \n",
    "    \n",
    "    for epoch in range(1, num_epochs + 1):\n",
    "\n",
    "        lr_val = optimizer.param_groups[0][\"lr\"]\n",
    "        print(f\"Fold:{fold} epoch {epoch}/{num_epochs}  LR={lr_val}\")\n",
    "\n",
    "        training_loss, training_metric = trainfp32(epoch,\n",
    "                                                   train_dataloader,\n",
    "                                                   optimizer,\n",
    "                                                   loss_fn,\n",
    "                                                   lr_scheduler,\n",
    "                                                   metric_fn=f1_torch,\n",
    "                                                   model=model)\n",
    "\n",
    "        print('Training-- Loss: {:.4f}, Metric: {:.3f}'.format(\n",
    "            training_loss, training_metric),\n",
    "              end=',')\n",
    "        act, pred, _= inferfp32(validation_dataloader, model)\n",
    "        \n",
    "        accuracy_metric = accuracy_score(act,pred>0.5)\n",
    "        sensitivity_metric = recall_score(act,pred>0.1)\n",
    "        specificity_metric = precision_score(act,pred>0.1)\n",
    "        auroc_metric = roc_auc_score(act,pred)\n",
    "        \n",
    "        \n",
    "        validation_metric = log_loss(act,pred)\n",
    "\n",
    "        print(f'Validation--  Metrics: accuracy={accuracy_metric:.5f}, sensitivity={sensitivity_metric:.3f},specificity={specificity_metric:.3f}, auroc={auroc_metric:.3f}', end='\\n')\n",
    "        training_losses.append(training_loss)\n",
    "        \n",
    "        epoch_loss_values.append(validation_metric)\n",
    "        metric_values.append(auroc_metric)\n",
    "        \n",
    "        if auroc_metric > best_metric:\n",
    "            best_metric = auroc_metric\n",
    "            best_metric_epoch = epoch + 1\n",
    "            torch.save(model.state_dict(), MODEL_FOLDER / f\"{fold}_best_dict_{om_descr}_{training_phase}.pth\")\n",
    "            print(\"saved new best metric model\")        \n",
    " \n",
    "    plot_metrics(epoch_loss_values, metric_values)\n",
    "    torch.save(model.state_dict(), MODEL_FOLDER / f\"{fold}_dict_{om_descr}_{training_phase}.pth\")\n",
    "\n",
    "    model.cpu()\n",
    "    del model, optimizer, train_dataloader, validation_dataloader, lr_scheduler\n",
    "    gc.collect()\n",
    "    torch.cuda.empty_cache()\n"
   ]
  },
  {
   "cell_type": "code",
   "execution_count": 39,
   "id": "5af6aa63",
   "metadata": {
    "execution": {
     "iopub.execute_input": "2023-12-01T00:06:29.989316Z",
     "iopub.status.busy": "2023-12-01T00:06:29.988938Z",
     "iopub.status.idle": "2023-12-01T00:06:29.996478Z",
     "shell.execute_reply": "2023-12-01T00:06:29.995500Z"
    },
    "papermill": {
     "duration": 0.268092,
     "end_time": "2023-12-01T00:06:29.998449",
     "exception": false,
     "start_time": "2023-12-01T00:06:29.730357",
     "status": "completed"
    },
    "tags": []
   },
   "outputs": [],
   "source": [
    "pd.DataFrame({'train_loss':training_losses,'val_loss':epoch_loss_values,'val_auc':metric_values}).to_csv('resnet_audio_exp.csv',index=False)"
   ]
  }
 ],
 "metadata": {
  "kaggle": {
   "accelerator": "gpu",
   "dataSources": [
    {
     "datasetId": 2643744,
     "sourceId": 4523931,
     "sourceType": "datasetVersion"
    },
    {
     "datasetId": 2643754,
     "sourceId": 4523947,
     "sourceType": "datasetVersion"
    }
   ],
   "dockerImageVersionId": 30528,
   "isGpuEnabled": true,
   "isInternetEnabled": true,
   "language": "python",
   "sourceType": "notebook"
  },
  "kernelspec": {
   "display_name": "Python 3",
   "language": "python",
   "name": "python3"
  },
  "language_info": {
   "codemirror_mode": {
    "name": "ipython",
    "version": 3
   },
   "file_extension": ".py",
   "mimetype": "text/x-python",
   "name": "python",
   "nbconvert_exporter": "python",
   "pygments_lexer": "ipython3",
   "version": "3.10.12"
  },
  "papermill": {
   "default_parameters": {},
   "duration": 1625.755197,
   "end_time": "2023-12-01T00:06:33.333365",
   "environment_variables": {},
   "exception": null,
   "input_path": "__notebook__.ipynb",
   "output_path": "__notebook__.ipynb",
   "parameters": {},
   "start_time": "2023-11-30T23:39:27.578168",
   "version": "2.4.0"
  },
  "widgets": {
   "application/vnd.jupyter.widget-state+json": {
    "state": {
     "144949af875d47ef9e5b3e22dddeb56a": {
      "model_module": "@jupyter-widgets/base",
      "model_module_version": "1.2.0",
      "model_name": "LayoutModel",
      "state": {
       "_model_module": "@jupyter-widgets/base",
       "_model_module_version": "1.2.0",
       "_model_name": "LayoutModel",
       "_view_count": null,
       "_view_module": "@jupyter-widgets/base",
       "_view_module_version": "1.2.0",
       "_view_name": "LayoutView",
       "align_content": null,
       "align_items": null,
       "align_self": null,
       "border": null,
       "bottom": null,
       "display": null,
       "flex": null,
       "flex_flow": null,
       "grid_area": null,
       "grid_auto_columns": null,
       "grid_auto_flow": null,
       "grid_auto_rows": null,
       "grid_column": null,
       "grid_gap": null,
       "grid_row": null,
       "grid_template_areas": null,
       "grid_template_columns": null,
       "grid_template_rows": null,
       "height": null,
       "justify_content": null,
       "justify_items": null,
       "left": null,
       "margin": null,
       "max_height": null,
       "max_width": null,
       "min_height": null,
       "min_width": null,
       "object_fit": null,
       "object_position": null,
       "order": null,
       "overflow": null,
       "overflow_x": null,
       "overflow_y": null,
       "padding": null,
       "right": null,
       "top": null,
       "visibility": null,
       "width": null
      }
     },
     "2355332377b14f5f81c2cd0b983f5b7f": {
      "model_module": "@jupyter-widgets/controls",
      "model_module_version": "1.5.0",
      "model_name": "HBoxModel",
      "state": {
       "_dom_classes": [],
       "_model_module": "@jupyter-widgets/controls",
       "_model_module_version": "1.5.0",
       "_model_name": "HBoxModel",
       "_view_count": null,
       "_view_module": "@jupyter-widgets/controls",
       "_view_module_version": "1.5.0",
       "_view_name": "HBoxView",
       "box_style": "",
       "children": [
        "IPY_MODEL_711c26ae92044328867fc3fd496fee40",
        "IPY_MODEL_2ba3097203564e67b99b509f990b7902",
        "IPY_MODEL_7b6f186905c044608f61c4e7c9fb695d"
       ],
       "layout": "IPY_MODEL_91349fa91ac847a78c137443d03e7a62"
      }
     },
     "2ba3097203564e67b99b509f990b7902": {
      "model_module": "@jupyter-widgets/controls",
      "model_module_version": "1.5.0",
      "model_name": "FloatProgressModel",
      "state": {
       "_dom_classes": [],
       "_model_module": "@jupyter-widgets/controls",
       "_model_module_version": "1.5.0",
       "_model_name": "FloatProgressModel",
       "_view_count": null,
       "_view_module": "@jupyter-widgets/controls",
       "_view_module_version": "1.5.0",
       "_view_name": "ProgressView",
       "bar_style": "success",
       "description": "",
       "description_tooltip": null,
       "layout": "IPY_MODEL_bee389d5ac4b460e82037815aade00be",
       "max": 87278522.0,
       "min": 0.0,
       "orientation": "horizontal",
       "style": "IPY_MODEL_3c82c8eb169b4fc5b450c38605ee10b5",
       "value": 87278522.0
      }
     },
     "3c82c8eb169b4fc5b450c38605ee10b5": {
      "model_module": "@jupyter-widgets/controls",
      "model_module_version": "1.5.0",
      "model_name": "ProgressStyleModel",
      "state": {
       "_model_module": "@jupyter-widgets/controls",
       "_model_module_version": "1.5.0",
       "_model_name": "ProgressStyleModel",
       "_view_count": null,
       "_view_module": "@jupyter-widgets/base",
       "_view_module_version": "1.2.0",
       "_view_name": "StyleView",
       "bar_color": null,
       "description_width": ""
      }
     },
     "44860c9a895540d2bc8cd5b7332f8bc2": {
      "model_module": "@jupyter-widgets/base",
      "model_module_version": "1.2.0",
      "model_name": "LayoutModel",
      "state": {
       "_model_module": "@jupyter-widgets/base",
       "_model_module_version": "1.2.0",
       "_model_name": "LayoutModel",
       "_view_count": null,
       "_view_module": "@jupyter-widgets/base",
       "_view_module_version": "1.2.0",
       "_view_name": "LayoutView",
       "align_content": null,
       "align_items": null,
       "align_self": null,
       "border": null,
       "bottom": null,
       "display": null,
       "flex": null,
       "flex_flow": null,
       "grid_area": null,
       "grid_auto_columns": null,
       "grid_auto_flow": null,
       "grid_auto_rows": null,
       "grid_column": null,
       "grid_gap": null,
       "grid_row": null,
       "grid_template_areas": null,
       "grid_template_columns": null,
       "grid_template_rows": null,
       "height": null,
       "justify_content": null,
       "justify_items": null,
       "left": null,
       "margin": null,
       "max_height": null,
       "max_width": null,
       "min_height": null,
       "min_width": null,
       "object_fit": null,
       "object_position": null,
       "order": null,
       "overflow": null,
       "overflow_x": null,
       "overflow_y": null,
       "padding": null,
       "right": null,
       "top": null,
       "visibility": null,
       "width": null
      }
     },
     "50166173413243ecbc3363609ec6d8ef": {
      "model_module": "@jupyter-widgets/controls",
      "model_module_version": "1.5.0",
      "model_name": "DescriptionStyleModel",
      "state": {
       "_model_module": "@jupyter-widgets/controls",
       "_model_module_version": "1.5.0",
       "_model_name": "DescriptionStyleModel",
       "_view_count": null,
       "_view_module": "@jupyter-widgets/base",
       "_view_module_version": "1.2.0",
       "_view_name": "StyleView",
       "description_width": ""
      }
     },
     "711c26ae92044328867fc3fd496fee40": {
      "model_module": "@jupyter-widgets/controls",
      "model_module_version": "1.5.0",
      "model_name": "HTMLModel",
      "state": {
       "_dom_classes": [],
       "_model_module": "@jupyter-widgets/controls",
       "_model_module_version": "1.5.0",
       "_model_name": "HTMLModel",
       "_view_count": null,
       "_view_module": "@jupyter-widgets/controls",
       "_view_module_version": "1.5.0",
       "_view_name": "HTMLView",
       "description": "",
       "description_tooltip": null,
       "layout": "IPY_MODEL_144949af875d47ef9e5b3e22dddeb56a",
       "placeholder": "​",
       "style": "IPY_MODEL_50166173413243ecbc3363609ec6d8ef",
       "value": "Downloading model.safetensors: 100%"
      }
     },
     "75085fc0f9224a068ed18f995d88ee25": {
      "model_module": "@jupyter-widgets/controls",
      "model_module_version": "1.5.0",
      "model_name": "DescriptionStyleModel",
      "state": {
       "_model_module": "@jupyter-widgets/controls",
       "_model_module_version": "1.5.0",
       "_model_name": "DescriptionStyleModel",
       "_view_count": null,
       "_view_module": "@jupyter-widgets/base",
       "_view_module_version": "1.2.0",
       "_view_name": "StyleView",
       "description_width": ""
      }
     },
     "7b6f186905c044608f61c4e7c9fb695d": {
      "model_module": "@jupyter-widgets/controls",
      "model_module_version": "1.5.0",
      "model_name": "HTMLModel",
      "state": {
       "_dom_classes": [],
       "_model_module": "@jupyter-widgets/controls",
       "_model_module_version": "1.5.0",
       "_model_name": "HTMLModel",
       "_view_count": null,
       "_view_module": "@jupyter-widgets/controls",
       "_view_module_version": "1.5.0",
       "_view_name": "HTMLView",
       "description": "",
       "description_tooltip": null,
       "layout": "IPY_MODEL_44860c9a895540d2bc8cd5b7332f8bc2",
       "placeholder": "​",
       "style": "IPY_MODEL_75085fc0f9224a068ed18f995d88ee25",
       "value": " 87.3M/87.3M [00:00&lt;00:00, 300MB/s]"
      }
     },
     "91349fa91ac847a78c137443d03e7a62": {
      "model_module": "@jupyter-widgets/base",
      "model_module_version": "1.2.0",
      "model_name": "LayoutModel",
      "state": {
       "_model_module": "@jupyter-widgets/base",
       "_model_module_version": "1.2.0",
       "_model_name": "LayoutModel",
       "_view_count": null,
       "_view_module": "@jupyter-widgets/base",
       "_view_module_version": "1.2.0",
       "_view_name": "LayoutView",
       "align_content": null,
       "align_items": null,
       "align_self": null,
       "border": null,
       "bottom": null,
       "display": null,
       "flex": null,
       "flex_flow": null,
       "grid_area": null,
       "grid_auto_columns": null,
       "grid_auto_flow": null,
       "grid_auto_rows": null,
       "grid_column": null,
       "grid_gap": null,
       "grid_row": null,
       "grid_template_areas": null,
       "grid_template_columns": null,
       "grid_template_rows": null,
       "height": null,
       "justify_content": null,
       "justify_items": null,
       "left": null,
       "margin": null,
       "max_height": null,
       "max_width": null,
       "min_height": null,
       "min_width": null,
       "object_fit": null,
       "object_position": null,
       "order": null,
       "overflow": null,
       "overflow_x": null,
       "overflow_y": null,
       "padding": null,
       "right": null,
       "top": null,
       "visibility": null,
       "width": null
      }
     },
     "bee389d5ac4b460e82037815aade00be": {
      "model_module": "@jupyter-widgets/base",
      "model_module_version": "1.2.0",
      "model_name": "LayoutModel",
      "state": {
       "_model_module": "@jupyter-widgets/base",
       "_model_module_version": "1.2.0",
       "_model_name": "LayoutModel",
       "_view_count": null,
       "_view_module": "@jupyter-widgets/base",
       "_view_module_version": "1.2.0",
       "_view_name": "LayoutView",
       "align_content": null,
       "align_items": null,
       "align_self": null,
       "border": null,
       "bottom": null,
       "display": null,
       "flex": null,
       "flex_flow": null,
       "grid_area": null,
       "grid_auto_columns": null,
       "grid_auto_flow": null,
       "grid_auto_rows": null,
       "grid_column": null,
       "grid_gap": null,
       "grid_row": null,
       "grid_template_areas": null,
       "grid_template_columns": null,
       "grid_template_rows": null,
       "height": null,
       "justify_content": null,
       "justify_items": null,
       "left": null,
       "margin": null,
       "max_height": null,
       "max_width": null,
       "min_height": null,
       "min_width": null,
       "object_fit": null,
       "object_position": null,
       "order": null,
       "overflow": null,
       "overflow_x": null,
       "overflow_y": null,
       "padding": null,
       "right": null,
       "top": null,
       "visibility": null,
       "width": null
      }
     }
    },
    "version_major": 2,
    "version_minor": 0
   }
  }
 },
 "nbformat": 4,
 "nbformat_minor": 5
}
